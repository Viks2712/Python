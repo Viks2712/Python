{
 "cells": [
  {
   "cell_type": "code",
   "execution_count": 1,
   "metadata": {
    "id": "AoNtcOaDkTTS"
   },
   "outputs": [],
   "source": [
    "# Importing necessary libraries-->\n",
    "import pandas as pd\n",
    "import numpy as np\n",
    "import matplotlib.pyplot as plt\n",
    "import seaborn as sb"
   ]
  },
  {
   "cell_type": "code",
   "execution_count": 60,
   "metadata": {
    "id": "IPZuiQnnpCsF"
   },
   "outputs": [],
   "source": [
    "# Reading given dataset--\n",
    "train = pd.read_csv(r'E:\\Data Science\\Python\\marketing_Project_2\\carvan_train.csv')\n",
    "test = pd.read_csv(r'E:\\Data Science\\Python\\marketing_Project_2\\carvan_test.csv')"
   ]
  },
  {
   "cell_type": "markdown",
   "metadata": {
    "id": "nay6PASNLczj"
   },
   "source": [
    "### Finding and removing correlated features-->"
   ]
  },
  {
   "cell_type": "code",
   "execution_count": 3,
   "metadata": {
    "id": "MbjrZ5O7JWYg"
   },
   "outputs": [],
   "source": [
    "df_correl = train.corr()"
   ]
  },
  {
   "cell_type": "code",
   "execution_count": 4,
   "metadata": {
    "id": "bTm8DiPZJw-x"
   },
   "outputs": [],
   "source": [
    "stacked_col = df_correl.stack().reset_index()"
   ]
  },
  {
   "cell_type": "code",
   "execution_count": 5,
   "metadata": {
    "id": "u0k_RsdbsAzv"
   },
   "outputs": [],
   "source": [
    "stacked_col.columns = ['level_0', 'level_1','score_value']"
   ]
  },
  {
   "cell_type": "code",
   "execution_count": 6,
   "metadata": {
    "id": "VLB8G2_8yf_F"
   },
   "outputs": [],
   "source": [
    "high_score = stacked_col[stacked_col.score_value>0.8]"
   ]
  },
  {
   "cell_type": "code",
   "execution_count": 7,
   "metadata": {
    "id": "1NO0vOaL3yBK"
   },
   "outputs": [],
   "source": [
    "uniq_col = high_score[~(high_score.score_value==1)]"
   ]
  },
  {
   "cell_type": "code",
   "execution_count": 8,
   "metadata": {
    "collapsed": true
   },
   "outputs": [
    {
     "data": {
      "text/html": [
       "<div>\n",
       "<style scoped>\n",
       "    .dataframe tbody tr th:only-of-type {\n",
       "        vertical-align: middle;\n",
       "    }\n",
       "\n",
       "    .dataframe tbody tr th {\n",
       "        vertical-align: top;\n",
       "    }\n",
       "\n",
       "    .dataframe thead th {\n",
       "        text-align: right;\n",
       "    }\n",
       "</style>\n",
       "<table border=\"1\" class=\"dataframe\">\n",
       "  <thead>\n",
       "    <tr style=\"text-align: right;\">\n",
       "      <th></th>\n",
       "      <th>level_0</th>\n",
       "      <th>level_1</th>\n",
       "      <th>score_value</th>\n",
       "    </tr>\n",
       "  </thead>\n",
       "  <tbody>\n",
       "    <tr>\n",
       "      <th>4</th>\n",
       "      <td>V1</td>\n",
       "      <td>V5</td>\n",
       "      <td>0.992672</td>\n",
       "    </tr>\n",
       "    <tr>\n",
       "      <th>344</th>\n",
       "      <td>V5</td>\n",
       "      <td>V1</td>\n",
       "      <td>0.992672</td>\n",
       "    </tr>\n",
       "    <tr>\n",
       "      <th>3762</th>\n",
       "      <td>V44</td>\n",
       "      <td>V65</td>\n",
       "      <td>0.981369</td>\n",
       "    </tr>\n",
       "    <tr>\n",
       "      <th>3849</th>\n",
       "      <td>V45</td>\n",
       "      <td>V66</td>\n",
       "      <td>0.895407</td>\n",
       "    </tr>\n",
       "    <tr>\n",
       "      <th>3936</th>\n",
       "      <td>V46</td>\n",
       "      <td>V67</td>\n",
       "      <td>0.987579</td>\n",
       "    </tr>\n",
       "    <tr>\n",
       "      <th>4023</th>\n",
       "      <td>V47</td>\n",
       "      <td>V68</td>\n",
       "      <td>0.916154</td>\n",
       "    </tr>\n",
       "    <tr>\n",
       "      <th>4110</th>\n",
       "      <td>V48</td>\n",
       "      <td>V69</td>\n",
       "      <td>0.902996</td>\n",
       "    </tr>\n",
       "    <tr>\n",
       "      <th>4197</th>\n",
       "      <td>V49</td>\n",
       "      <td>V70</td>\n",
       "      <td>0.904855</td>\n",
       "    </tr>\n",
       "    <tr>\n",
       "      <th>4284</th>\n",
       "      <td>V50</td>\n",
       "      <td>V71</td>\n",
       "      <td>0.948663</td>\n",
       "    </tr>\n",
       "    <tr>\n",
       "      <th>4371</th>\n",
       "      <td>V51</td>\n",
       "      <td>V72</td>\n",
       "      <td>0.966081</td>\n",
       "    </tr>\n",
       "    <tr>\n",
       "      <th>4458</th>\n",
       "      <td>V52</td>\n",
       "      <td>V73</td>\n",
       "      <td>0.929818</td>\n",
       "    </tr>\n",
       "    <tr>\n",
       "      <th>4545</th>\n",
       "      <td>V53</td>\n",
       "      <td>V74</td>\n",
       "      <td>0.909671</td>\n",
       "    </tr>\n",
       "    <tr>\n",
       "      <th>4632</th>\n",
       "      <td>V54</td>\n",
       "      <td>V75</td>\n",
       "      <td>0.969708</td>\n",
       "    </tr>\n",
       "    <tr>\n",
       "      <th>4719</th>\n",
       "      <td>V55</td>\n",
       "      <td>V76</td>\n",
       "      <td>0.850171</td>\n",
       "    </tr>\n",
       "    <tr>\n",
       "      <th>4806</th>\n",
       "      <td>V56</td>\n",
       "      <td>V77</td>\n",
       "      <td>0.897562</td>\n",
       "    </tr>\n",
       "    <tr>\n",
       "      <th>4893</th>\n",
       "      <td>V57</td>\n",
       "      <td>V78</td>\n",
       "      <td>0.979969</td>\n",
       "    </tr>\n",
       "    <tr>\n",
       "      <th>4980</th>\n",
       "      <td>V58</td>\n",
       "      <td>V79</td>\n",
       "      <td>0.948430</td>\n",
       "    </tr>\n",
       "    <tr>\n",
       "      <th>5067</th>\n",
       "      <td>V59</td>\n",
       "      <td>V80</td>\n",
       "      <td>0.865536</td>\n",
       "    </tr>\n",
       "    <tr>\n",
       "      <th>5154</th>\n",
       "      <td>V60</td>\n",
       "      <td>V81</td>\n",
       "      <td>0.870334</td>\n",
       "    </tr>\n",
       "    <tr>\n",
       "      <th>5241</th>\n",
       "      <td>V61</td>\n",
       "      <td>V82</td>\n",
       "      <td>0.904436</td>\n",
       "    </tr>\n",
       "    <tr>\n",
       "      <th>5328</th>\n",
       "      <td>V62</td>\n",
       "      <td>V83</td>\n",
       "      <td>0.935854</td>\n",
       "    </tr>\n",
       "    <tr>\n",
       "      <th>5415</th>\n",
       "      <td>V63</td>\n",
       "      <td>V84</td>\n",
       "      <td>0.875256</td>\n",
       "    </tr>\n",
       "    <tr>\n",
       "      <th>5502</th>\n",
       "      <td>V64</td>\n",
       "      <td>V85</td>\n",
       "      <td>0.966239</td>\n",
       "    </tr>\n",
       "    <tr>\n",
       "      <th>5547</th>\n",
       "      <td>V65</td>\n",
       "      <td>V44</td>\n",
       "      <td>0.981369</td>\n",
       "    </tr>\n",
       "    <tr>\n",
       "      <th>5634</th>\n",
       "      <td>V66</td>\n",
       "      <td>V45</td>\n",
       "      <td>0.895407</td>\n",
       "    </tr>\n",
       "    <tr>\n",
       "      <th>5721</th>\n",
       "      <td>V67</td>\n",
       "      <td>V46</td>\n",
       "      <td>0.987579</td>\n",
       "    </tr>\n",
       "    <tr>\n",
       "      <th>5808</th>\n",
       "      <td>V68</td>\n",
       "      <td>V47</td>\n",
       "      <td>0.916154</td>\n",
       "    </tr>\n",
       "    <tr>\n",
       "      <th>5895</th>\n",
       "      <td>V69</td>\n",
       "      <td>V48</td>\n",
       "      <td>0.902996</td>\n",
       "    </tr>\n",
       "    <tr>\n",
       "      <th>5982</th>\n",
       "      <td>V70</td>\n",
       "      <td>V49</td>\n",
       "      <td>0.904855</td>\n",
       "    </tr>\n",
       "    <tr>\n",
       "      <th>6069</th>\n",
       "      <td>V71</td>\n",
       "      <td>V50</td>\n",
       "      <td>0.948663</td>\n",
       "    </tr>\n",
       "    <tr>\n",
       "      <th>6156</th>\n",
       "      <td>V72</td>\n",
       "      <td>V51</td>\n",
       "      <td>0.966081</td>\n",
       "    </tr>\n",
       "    <tr>\n",
       "      <th>6243</th>\n",
       "      <td>V73</td>\n",
       "      <td>V52</td>\n",
       "      <td>0.929818</td>\n",
       "    </tr>\n",
       "    <tr>\n",
       "      <th>6330</th>\n",
       "      <td>V74</td>\n",
       "      <td>V53</td>\n",
       "      <td>0.909671</td>\n",
       "    </tr>\n",
       "    <tr>\n",
       "      <th>6417</th>\n",
       "      <td>V75</td>\n",
       "      <td>V54</td>\n",
       "      <td>0.969708</td>\n",
       "    </tr>\n",
       "    <tr>\n",
       "      <th>6504</th>\n",
       "      <td>V76</td>\n",
       "      <td>V55</td>\n",
       "      <td>0.850171</td>\n",
       "    </tr>\n",
       "    <tr>\n",
       "      <th>6591</th>\n",
       "      <td>V77</td>\n",
       "      <td>V56</td>\n",
       "      <td>0.897562</td>\n",
       "    </tr>\n",
       "    <tr>\n",
       "      <th>6678</th>\n",
       "      <td>V78</td>\n",
       "      <td>V57</td>\n",
       "      <td>0.979969</td>\n",
       "    </tr>\n",
       "    <tr>\n",
       "      <th>6765</th>\n",
       "      <td>V79</td>\n",
       "      <td>V58</td>\n",
       "      <td>0.948430</td>\n",
       "    </tr>\n",
       "    <tr>\n",
       "      <th>6852</th>\n",
       "      <td>V80</td>\n",
       "      <td>V59</td>\n",
       "      <td>0.865536</td>\n",
       "    </tr>\n",
       "    <tr>\n",
       "      <th>6939</th>\n",
       "      <td>V81</td>\n",
       "      <td>V60</td>\n",
       "      <td>0.870334</td>\n",
       "    </tr>\n",
       "    <tr>\n",
       "      <th>7026</th>\n",
       "      <td>V82</td>\n",
       "      <td>V61</td>\n",
       "      <td>0.904436</td>\n",
       "    </tr>\n",
       "    <tr>\n",
       "      <th>7113</th>\n",
       "      <td>V83</td>\n",
       "      <td>V62</td>\n",
       "      <td>0.935854</td>\n",
       "    </tr>\n",
       "    <tr>\n",
       "      <th>7200</th>\n",
       "      <td>V84</td>\n",
       "      <td>V63</td>\n",
       "      <td>0.875256</td>\n",
       "    </tr>\n",
       "    <tr>\n",
       "      <th>7287</th>\n",
       "      <td>V85</td>\n",
       "      <td>V64</td>\n",
       "      <td>0.966239</td>\n",
       "    </tr>\n",
       "  </tbody>\n",
       "</table>\n",
       "</div>"
      ],
      "text/plain": [
       "     level_0 level_1  score_value\n",
       "4         V1      V5     0.992672\n",
       "344       V5      V1     0.992672\n",
       "3762     V44     V65     0.981369\n",
       "3849     V45     V66     0.895407\n",
       "3936     V46     V67     0.987579\n",
       "4023     V47     V68     0.916154\n",
       "4110     V48     V69     0.902996\n",
       "4197     V49     V70     0.904855\n",
       "4284     V50     V71     0.948663\n",
       "4371     V51     V72     0.966081\n",
       "4458     V52     V73     0.929818\n",
       "4545     V53     V74     0.909671\n",
       "4632     V54     V75     0.969708\n",
       "4719     V55     V76     0.850171\n",
       "4806     V56     V77     0.897562\n",
       "4893     V57     V78     0.979969\n",
       "4980     V58     V79     0.948430\n",
       "5067     V59     V80     0.865536\n",
       "5154     V60     V81     0.870334\n",
       "5241     V61     V82     0.904436\n",
       "5328     V62     V83     0.935854\n",
       "5415     V63     V84     0.875256\n",
       "5502     V64     V85     0.966239\n",
       "5547     V65     V44     0.981369\n",
       "5634     V66     V45     0.895407\n",
       "5721     V67     V46     0.987579\n",
       "5808     V68     V47     0.916154\n",
       "5895     V69     V48     0.902996\n",
       "5982     V70     V49     0.904855\n",
       "6069     V71     V50     0.948663\n",
       "6156     V72     V51     0.966081\n",
       "6243     V73     V52     0.929818\n",
       "6330     V74     V53     0.909671\n",
       "6417     V75     V54     0.969708\n",
       "6504     V76     V55     0.850171\n",
       "6591     V77     V56     0.897562\n",
       "6678     V78     V57     0.979969\n",
       "6765     V79     V58     0.948430\n",
       "6852     V80     V59     0.865536\n",
       "6939     V81     V60     0.870334\n",
       "7026     V82     V61     0.904436\n",
       "7113     V83     V62     0.935854\n",
       "7200     V84     V63     0.875256\n",
       "7287     V85     V64     0.966239"
      ]
     },
     "execution_count": 8,
     "metadata": {},
     "output_type": "execute_result"
    }
   ],
   "source": [
    "uniq_col"
   ]
  },
  {
   "cell_type": "code",
   "execution_count": 9,
   "metadata": {
    "colab": {
     "base_uri": "https://localhost:8080/"
    },
    "id": "LIRVAba-hHaB",
    "outputId": "3f12cbbf-72fd-4561-ef82-463a9fae79b6"
   },
   "outputs": [],
   "source": [
    "#Dropping the co related features ->\n",
    "\n",
    "train = train.drop(['V5', 'V66', 'V67', 'V68', 'V69', 'V70', 'V71', 'V72',\n",
    "       'V73', 'V74', 'V75', 'V76', 'V77', 'V78', 'V79', 'V80', 'V81',\n",
    "       'V82', 'V83', 'V84', 'V85', 'V44', 'V45', 'V46', 'V47', 'V48',\n",
    "       'V49', 'V50', 'V51', 'V52', 'V53', 'V54', 'V55', 'V56', 'V57',\n",
    "       'V58', 'V59', 'V60', 'V61', 'V62', 'V63', 'V64'],axis = 1)"
   ]
  },
  {
   "cell_type": "code",
   "execution_count": 10,
   "metadata": {
    "colab": {
     "base_uri": "https://localhost:8080/"
    },
    "id": "zXRvbWNbBlHN",
    "outputId": "d4f68f21-3e68-49d7-f4d1-e44fc0ee190d"
   },
   "outputs": [],
   "source": [
    "test = test.drop(['V5', 'V66', 'V67', 'V68', 'V69', 'V70', 'V71', 'V72',\n",
    "       'V73', 'V74', 'V75', 'V76', 'V77', 'V78', 'V79', 'V80', 'V81',\n",
    "       'V82', 'V83', 'V84', 'V85', 'V44', 'V45', 'V46', 'V47', 'V48',\n",
    "       'V49', 'V50', 'V51', 'V52', 'V53', 'V54', 'V55', 'V56', 'V57',\n",
    "       'V58', 'V59', 'V60', 'V61', 'V62', 'V63', 'V64'],axis=1)"
   ]
  },
  {
   "cell_type": "code",
   "execution_count": 11,
   "metadata": {
    "id": "6XpVBPc5GsYs"
   },
   "outputs": [],
   "source": [
    "# Creating dependent variable and independent variable-\n",
    "x = train.iloc[:,:-1]\n",
    "y = train.iloc[:,-1] "
   ]
  },
  {
   "cell_type": "code",
   "execution_count": 12,
   "metadata": {
    "id": "LViSMJu0JKNj"
   },
   "outputs": [],
   "source": [
    "# Split data into train test split--> 80-20 ratio\n",
    "\n",
    "from sklearn.model_selection import train_test_split\n",
    "x_train, x_test, y_train, y_test = train_test_split(x,y,test_size=0.2,random_state=1)"
   ]
  },
  {
   "cell_type": "code",
   "execution_count": 13,
   "metadata": {
    "colab": {
     "base_uri": "https://localhost:8080/"
    },
    "id": "fSGGN5YCrRFN",
    "outputId": "1eaf5468-22a3-449c-8696-ccfeeb61e3f9"
   },
   "outputs": [
    {
     "data": {
      "text/plain": [
       "((4657, 43), (1165, 43), (4657,), (1165,))"
      ]
     },
     "execution_count": 13,
     "metadata": {},
     "output_type": "execute_result"
    }
   ],
   "source": [
    "x_train.shape, x_test.shape, y_train.shape, y_test.shape"
   ]
  },
  {
   "cell_type": "code",
   "execution_count": 14,
   "metadata": {},
   "outputs": [],
   "source": [
    "from sklearn.preprocessing import OneHotEncoder, OrdinalEncoder, MinMaxScaler, StandardScaler\n",
    "from sklearn.compose import make_column_transformer, ColumnTransformer\n",
    "from sklearn.pipeline import make_pipeline, Pipeline\n",
    "from sklearn.model_selection import train_test_split, cross_val_score, GridSearchCV, RandomizedSearchCV\n",
    "from sklearn.impute import SimpleImputer\n",
    "from sklearn.linear_model import LogisticRegression\n",
    "from sklearn.metrics import confusion_matrix, roc_auc_score, accuracy_score, auc, roc_curve, precision_recall_curve, classification_report\n",
    "from sklearn.ensemble import RandomForestClassifier\n",
    "import xgboost as xgbs"
   ]
  },
  {
   "cell_type": "code",
   "execution_count": 15,
   "metadata": {},
   "outputs": [],
   "source": [
    "from imblearn.over_sampling import RandomOverSampler\n",
    "from imblearn.pipeline import make_pipeline as make_pipeline_with_sampler"
   ]
  },
  {
   "cell_type": "code",
   "execution_count": 16,
   "metadata": {},
   "outputs": [],
   "source": [
    "num_columns = list(x_train.columns)"
   ]
  },
  {
   "cell_type": "code",
   "execution_count": 17,
   "metadata": {},
   "outputs": [],
   "source": [
    "# simple imputation and then std sclaing done here for single numeric column\n",
    "pipe_num = make_pipeline(SimpleImputer(strategy=\"median\"), \n",
    "                          StandardScaler())\n",
    "\n",
    "# done for all the numeric columns\n",
    "preprocessor = ColumnTransformer(\n",
    "    transformers=[\n",
    "        ('num', pipe_num, num_columns)\n",
    "    ], remainder='passthrough')"
   ]
  },
  {
   "cell_type": "code",
   "execution_count": 18,
   "metadata": {},
   "outputs": [],
   "source": [
    "grid_lr = make_pipeline_with_sampler(\n",
    "    preprocessor,\n",
    "    RandomOverSampler(random_state=42),\n",
    "    LogisticRegression(max_iter=1000)\n",
    ")"
   ]
  },
  {
   "cell_type": "code",
   "execution_count": 19,
   "metadata": {
    "collapsed": true
   },
   "outputs": [
    {
     "data": {
      "text/plain": [
       "Pipeline(steps=[('columntransformer',\n",
       "                 ColumnTransformer(remainder='passthrough',\n",
       "                                   transformers=[('num',\n",
       "                                                  Pipeline(steps=[('simpleimputer',\n",
       "                                                                   SimpleImputer(strategy='median')),\n",
       "                                                                  ('standardscaler',\n",
       "                                                                   StandardScaler())]),\n",
       "                                                  ['V1', 'V2', 'V3', 'V4', 'V6',\n",
       "                                                   'V7', 'V8', 'V9', 'V10',\n",
       "                                                   'V11', 'V12', 'V13', 'V14',\n",
       "                                                   'V15', 'V16', 'V17', 'V18',\n",
       "                                                   'V19', 'V20', 'V21', 'V22',\n",
       "                                                   'V23', 'V24', 'V25', 'V26',\n",
       "                                                   'V27', 'V28', 'V29', 'V30',\n",
       "                                                   'V31', ...])])),\n",
       "                ('randomoversampler', RandomOverSampler(random_state=42)),\n",
       "                ('logisticregression', LogisticRegression(max_iter=1000))])"
      ]
     },
     "execution_count": 19,
     "metadata": {},
     "output_type": "execute_result"
    }
   ],
   "source": [
    "grid_lr.fit(x_train, y_train)"
   ]
  },
  {
   "cell_type": "code",
   "execution_count": 20,
   "metadata": {},
   "outputs": [
    {
     "data": {
      "text/plain": [
       "1659"
      ]
     },
     "execution_count": 20,
     "metadata": {},
     "output_type": "execute_result"
    }
   ],
   "source": [
    "grid_lr.predict(x_train).sum() ## predicted ones"
   ]
  },
  {
   "cell_type": "code",
   "execution_count": 21,
   "metadata": {},
   "outputs": [
    {
     "data": {
      "text/plain": [
       "419"
      ]
     },
     "execution_count": 21,
     "metadata": {},
     "output_type": "execute_result"
    }
   ],
   "source": [
    "grid_lr.predict(x_test).sum() ## predicted ones on test"
   ]
  },
  {
   "cell_type": "code",
   "execution_count": 22,
   "metadata": {},
   "outputs": [],
   "source": [
    "y_prd_lr = grid_lr.predict(x_test)"
   ]
  },
  {
   "cell_type": "code",
   "execution_count": 51,
   "metadata": {},
   "outputs": [],
   "source": [
    "roc_lr = roc_auc_score(y_prd_lr,y_test)"
   ]
  },
  {
   "cell_type": "code",
   "execution_count": 52,
   "metadata": {},
   "outputs": [
    {
     "name": "stdout",
     "output_type": "stream",
     "text": [
      "roc_auc_score for log reg is 0.528\n"
     ]
    }
   ],
   "source": [
    "print('roc_auc_score for log reg is',round(roc_lr,3))"
   ]
  },
  {
   "cell_type": "code",
   "execution_count": 24,
   "metadata": {},
   "outputs": [],
   "source": [
    "parameters = {\n",
    "    'max_depth': range (2, 6, 1),\n",
    "    'n_estimators': range(10, 200, 30),\n",
    "    'learning_rate': [0.001, 0.01, 0.05],\n",
    "    'lambda' : [ 0.5, 0.8, 0.9, 1],\n",
    "    'scale_pos_weight' :[1, 20, 40, 45]\n",
    "}"
   ]
  },
  {
   "cell_type": "code",
   "execution_count": 25,
   "metadata": {},
   "outputs": [],
   "source": [
    "strings = 'xgb__'\n",
    "\n",
    "xgb_params = {}\n",
    "for k, v in parameters.items():\n",
    "    xgb_params[strings + k] = v"
   ]
  },
  {
   "cell_type": "code",
   "execution_count": 26,
   "metadata": {},
   "outputs": [],
   "source": [
    "xgb = xgbs.XGBClassifier()\n",
    "pipe = Pipeline([('columntransformer',preprocessor), ('xgb',xgb)])"
   ]
  },
  {
   "cell_type": "code",
   "execution_count": 27,
   "metadata": {},
   "outputs": [],
   "source": [
    "grid_xgb = RandomizedSearchCV(pipe, \n",
    "                          param_distributions = xgb_params, \n",
    "                          cv = 5, scoring = 'roc_auc')"
   ]
  },
  {
   "cell_type": "code",
   "execution_count": 28,
   "metadata": {
    "collapsed": true
   },
   "outputs": [
    {
     "data": {
      "text/plain": [
       "RandomizedSearchCV(cv=5,\n",
       "                   estimator=Pipeline(steps=[('columntransformer',\n",
       "                                              ColumnTransformer(remainder='passthrough',\n",
       "                                                                transformers=[('num',\n",
       "                                                                               Pipeline(steps=[('simpleimputer',\n",
       "                                                                                                SimpleImputer(strategy='median')),\n",
       "                                                                                               ('standardscaler',\n",
       "                                                                                                StandardScaler())]),\n",
       "                                                                               ['V1',\n",
       "                                                                                'V2',\n",
       "                                                                                'V3',\n",
       "                                                                                'V4',\n",
       "                                                                                'V6',\n",
       "                                                                                'V7',\n",
       "                                                                                'V8',\n",
       "                                                                                'V9',\n",
       "                                                                                'V10',\n",
       "                                                                                'V11',\n",
       "                                                                                'V12',\n",
       "                                                                                'V13',\n",
       "                                                                                'V14',\n",
       "                                                                                'V15',\n",
       "                                                                                'V16',\n",
       "                                                                                'V17',\n",
       "                                                                                'V18',\n",
       "                                                                                'V19',\n",
       "                                                                                'V20',\n",
       "                                                                                'V21...\n",
       "                                                            monotone_constraints=None,\n",
       "                                                            n_estimators=100,\n",
       "                                                            n_jobs=None,\n",
       "                                                            num_parallel_tree=None,\n",
       "                                                            predictor=None,\n",
       "                                                            random_state=None,\n",
       "                                                            reg_alpha=None,\n",
       "                                                            reg_lambda=None, ...))]),\n",
       "                   param_distributions={'xgb__lambda': [0.5, 0.8, 0.9, 1],\n",
       "                                        'xgb__learning_rate': [0.001, 0.01,\n",
       "                                                               0.05],\n",
       "                                        'xgb__max_depth': range(2, 6),\n",
       "                                        'xgb__n_estimators': range(10, 200, 30),\n",
       "                                        'xgb__scale_pos_weight': [1, 20, 40,\n",
       "                                                                  45]},\n",
       "                   scoring='roc_auc')"
      ]
     },
     "execution_count": 28,
     "metadata": {},
     "output_type": "execute_result"
    }
   ],
   "source": [
    "grid_xgb.fit(x_train, y_train)"
   ]
  },
  {
   "cell_type": "code",
   "execution_count": 29,
   "metadata": {},
   "outputs": [
    {
     "data": {
      "text/plain": [
       "4310"
      ]
     },
     "execution_count": 29,
     "metadata": {},
     "output_type": "execute_result"
    }
   ],
   "source": [
    "grid_xgb.predict(x_train).sum() ## ones predicted on train"
   ]
  },
  {
   "cell_type": "code",
   "execution_count": 30,
   "metadata": {},
   "outputs": [
    {
     "data": {
      "text/plain": [
       "1071"
      ]
     },
     "execution_count": 30,
     "metadata": {},
     "output_type": "execute_result"
    }
   ],
   "source": [
    "grid_xgb.predict(x_test).sum() ## ones predicted on test"
   ]
  },
  {
   "cell_type": "code",
   "execution_count": 31,
   "metadata": {},
   "outputs": [],
   "source": [
    "y_pred_xgb = grid_xgb.predict(x_test)"
   ]
  },
  {
   "cell_type": "code",
   "execution_count": 49,
   "metadata": {},
   "outputs": [],
   "source": [
    "#roc_auc_score-\n",
    "roc_xgb = roc_auc_score(y_pred_xgb,y_test)"
   ]
  },
  {
   "cell_type": "code",
   "execution_count": 50,
   "metadata": {},
   "outputs": [
    {
     "name": "stdout",
     "output_type": "stream",
     "text": [
      "roc_auc_score for XGBoost is 0.518\n"
     ]
    }
   ],
   "source": [
    "print('roc_auc_score for XGBoost is',round(roc_xgb,3))"
   ]
  },
  {
   "cell_type": "code",
   "execution_count": 33,
   "metadata": {},
   "outputs": [
    {
     "name": "stdout",
     "output_type": "stream",
     "text": [
      "0.13218884120171673\n"
     ]
    }
   ],
   "source": [
    "#accuracy score-\n",
    "score = accuracy_score(y_pred_xgb,y_test)\n",
    "print(score)"
   ]
  },
  {
   "cell_type": "code",
   "execution_count": 34,
   "metadata": {
    "scrolled": true
   },
   "outputs": [
    {
     "name": "stdout",
     "output_type": "stream",
     "text": [
      "              precision    recall  f1-score   support\n",
      "\n",
      "           0       0.08      0.98      0.15        94\n",
      "           1       0.97      0.06      0.11      1071\n",
      "\n",
      "    accuracy                           0.13      1165\n",
      "   macro avg       0.53      0.52      0.13      1165\n",
      "weighted avg       0.90      0.13      0.11      1165\n",
      "\n"
     ]
    }
   ],
   "source": [
    "print(classification_report(y_pred_xgb,y_test))"
   ]
  },
  {
   "cell_type": "code",
   "execution_count": 35,
   "metadata": {},
   "outputs": [
    {
     "name": "stdout",
     "output_type": "stream",
     "text": [
      "[[  92    2]\n",
      " [1009   62]]\n"
     ]
    }
   ],
   "source": [
    "print(confusion_matrix(y_pred_xgb,y_test))"
   ]
  },
  {
   "cell_type": "code",
   "execution_count": 53,
   "metadata": {},
   "outputs": [],
   "source": [
    "# Prediction on actual test data\n",
    "y_pred_test = grid_lr.predict(test)"
   ]
  },
  {
   "cell_type": "code",
   "execution_count": 56,
   "metadata": {},
   "outputs": [
    {
     "data": {
      "text/plain": [
       "array([[0.58152697, 0.41847303],\n",
       "       [0.27684097, 0.72315903],\n",
       "       [0.46941046, 0.53058954],\n",
       "       ...,\n",
       "       [0.58619721, 0.41380279],\n",
       "       [0.53721801, 0.46278199],\n",
       "       [0.28723287, 0.71276713]])"
      ]
     },
     "execution_count": 56,
     "metadata": {},
     "output_type": "execute_result"
    }
   ],
   "source": [
    "grid_lr.predict_proba (test)"
   ]
  },
  {
   "cell_type": "code",
   "execution_count": 62,
   "metadata": {},
   "outputs": [],
   "source": [
    "pd.DataFrame(y_pred_test,columns = ['Prediction']).to_csv('Marketing_final.csv')"
   ]
  },
  {
   "cell_type": "code",
   "execution_count": 40,
   "metadata": {},
   "outputs": [],
   "source": []
  },
  {
   "cell_type": "code",
   "execution_count": null,
   "metadata": {},
   "outputs": [],
   "source": []
  }
 ],
 "metadata": {
  "accelerator": "TPU",
  "colab": {
   "provenance": []
  },
  "gpuClass": "standard",
  "kernelspec": {
   "display_name": "Python 3",
   "language": "python",
   "name": "python3"
  },
  "language_info": {
   "codemirror_mode": {
    "name": "ipython",
    "version": 3
   },
   "file_extension": ".py",
   "mimetype": "text/x-python",
   "name": "python",
   "nbconvert_exporter": "python",
   "pygments_lexer": "ipython3",
   "version": "3.7.6"
  }
 },
 "nbformat": 4,
 "nbformat_minor": 4
}
