{
  "cells": [
    {
      "cell_type": "code",
      "execution_count": null,
      "metadata": {
        "id": "8lNuIcnTMZ1y"
      },
      "outputs": [],
      "source": [
        "#from google.colab import drive\n",
        "#drive.mount('/content/drive')"
      ]
    },
    {
      "cell_type": "markdown",
      "metadata": {
        "id": "QEXYeRaItmLQ"
      },
      "source": [
        "Importing Necessary libraries"
      ]
    },
    {
      "cell_type": "code",
      "execution_count": null,
      "metadata": {
        "id": "OLvj8cv3MigG"
      },
      "outputs": [],
      "source": [
        "import pandas as pd\n",
        "import numpy as np\n",
        "import matplotlib.pyplot as plt\n",
        "import seaborn as sb"
      ]
    },
    {
      "cell_type": "markdown",
      "metadata": {
        "id": "Hn9XlZmBHCBx"
      },
      "source": [
        "Loading the dataset"
      ]
    },
    {
      "cell_type": "code",
      "execution_count": null,
      "metadata": {
        "id": "lpWUzYu5u3FR"
      },
      "outputs": [],
      "source": [
        "cct1 = pd.read_csv (r'D:\\pyt\\Consumer_Complaints_train.csv')\n",
        "cct2 = pd.read_csv (r'D:\\pyt\\Consumer_Complaints_test_share.csv')"
      ]
    },
    {
      "cell_type": "code",
      "execution_count": null,
      "metadata": {
        "colab": {
          "base_uri": "https://localhost:8080/"
        },
        "id": "gS-kTtKHu3FS",
        "outputId": "42ddc588-020e-48b0-99b0-532670842430"
      },
      "outputs": [
        {
          "data": {
            "text/plain": [
              "((478421, 18), (119606, 17))"
            ]
          },
          "execution_count": 36,
          "metadata": {},
          "output_type": "execute_result"
        }
      ],
      "source": [
        "cct1.shape , cct2.shape"
      ]
    },
    {
      "cell_type": "markdown",
      "metadata": {
        "id": "CcBJ_r-9iod2"
      },
      "source": [
        "Checking Event rate-"
      ]
    },
    {
      "cell_type": "code",
      "execution_count": null,
      "metadata": {
        "colab": {
          "base_uri": "https://localhost:8080/"
        },
        "id": "qffM5gvAu3FT",
        "outputId": "6ad6f643-dfed-4b3a-89e1-3f158d5b73ae"
      },
      "outputs": [
        {
          "data": {
            "text/plain": [
              "No     376990\n",
              "Yes    101431\n",
              "Name: Consumer disputed?, dtype: int64"
            ]
          },
          "execution_count": 37,
          "metadata": {},
          "output_type": "execute_result"
        }
      ],
      "source": [
        "cct1['Consumer disputed?'].value_counts()"
      ]
    },
    {
      "cell_type": "code",
      "execution_count": null,
      "metadata": {
        "colab": {
          "base_uri": "https://localhost:8080/"
        },
        "id": "5SfXypJBu3FU",
        "outputId": "667d8c61-9a3f-4293-cea9-0bd94a81e720"
      },
      "outputs": [
        {
          "data": {
            "text/plain": [
              "(0.7879879854772261, 0.21201201452277388)"
            ]
          },
          "execution_count": 38,
          "metadata": {},
          "output_type": "execute_result"
        }
      ],
      "source": [
        "376990/478421, 101431/478421"
      ]
    },
    {
      "cell_type": "markdown",
      "metadata": {
        "id": "y4GWgRn9HR_P"
      },
      "source": [
        "Labelling data"
      ]
    },
    {
      "cell_type": "code",
      "execution_count": null,
      "metadata": {
        "id": "_WZEw7Ugu3FU"
      },
      "outputs": [],
      "source": [
        "cct1['data']='train'\n",
        "cct2['data']='test'"
      ]
    },
    {
      "cell_type": "markdown",
      "metadata": {
        "id": "tJwJdHkPHZqo"
      },
      "source": [
        "Merging the data"
      ]
    },
    {
      "cell_type": "code",
      "execution_count": null,
      "metadata": {
        "id": "utbJkKMIu3FU"
      },
      "outputs": [],
      "source": [
        "cc_all=pd.concat([cct1,cct2],axis=0)"
      ]
    },
    {
      "cell_type": "markdown",
      "metadata": {
        "id": "73ckHsYTHfh-"
      },
      "source": [
        "Data Preparation"
      ]
    },
    {
      "cell_type": "code",
      "execution_count": null,
      "metadata": {
        "colab": {
          "base_uri": "https://localhost:8080/"
        },
        "id": "dzC733Qsu3FV",
        "outputId": "0d7f0d56-906f-4b15-b652-dca2739b7df1"
      },
      "outputs": [
        {
          "data": {
            "text/plain": [
              "Date received                   object\n",
              "Product                         object\n",
              "Sub-product                     object\n",
              "Issue                           object\n",
              "Sub-issue                       object\n",
              "Consumer complaint narrative    object\n",
              "Company public response         object\n",
              "Company                         object\n",
              "State                           object\n",
              "ZIP code                        object\n",
              "Tags                            object\n",
              "Consumer consent provided?      object\n",
              "Submitted via                   object\n",
              "Date sent to company            object\n",
              "Company response to consumer    object\n",
              "Timely response?                object\n",
              "Consumer disputed?              object\n",
              "Complaint ID                     int64\n",
              "data                            object\n",
              "dtype: object"
            ]
          },
          "execution_count": 41,
          "metadata": {},
          "output_type": "execute_result"
        }
      ],
      "source": [
        "cc_all.dtypes"
      ]
    },
    {
      "cell_type": "code",
      "execution_count": null,
      "metadata": {
        "id": "m-rBDR-yu3FV"
      },
      "outputs": [],
      "source": [
        "# Converting columns into date time format\n",
        "for col in ['Date received','Date sent to company']:\n",
        "    cc_all[col] = pd.to_datetime(cc_all[col], infer_datetime_format=True)"
      ]
    },
    {
      "cell_type": "code",
      "execution_count": null,
      "metadata": {
        "colab": {
          "base_uri": "https://localhost:8080/",
          "height": 582
        },
        "id": "i4Ua4rYnu3FV",
        "outputId": "c2c0d892-aed4-4a2e-cf6b-f15da9193311"
      },
      "outputs": [
        {
          "data": {
            "text/html": [
              "<div>\n",
              "<style scoped>\n",
              "    .dataframe tbody tr th:only-of-type {\n",
              "        vertical-align: middle;\n",
              "    }\n",
              "\n",
              "    .dataframe tbody tr th {\n",
              "        vertical-align: top;\n",
              "    }\n",
              "\n",
              "    .dataframe thead th {\n",
              "        text-align: right;\n",
              "    }\n",
              "</style>\n",
              "<table border=\"1\" class=\"dataframe\">\n",
              "  <thead>\n",
              "    <tr style=\"text-align: right;\">\n",
              "      <th></th>\n",
              "      <th>Date received</th>\n",
              "      <th>Product</th>\n",
              "      <th>Sub-product</th>\n",
              "      <th>Issue</th>\n",
              "      <th>Sub-issue</th>\n",
              "      <th>Consumer complaint narrative</th>\n",
              "      <th>Company public response</th>\n",
              "      <th>Company</th>\n",
              "      <th>State</th>\n",
              "      <th>ZIP code</th>\n",
              "      <th>Tags</th>\n",
              "      <th>Consumer consent provided?</th>\n",
              "      <th>Submitted via</th>\n",
              "      <th>Date sent to company</th>\n",
              "      <th>Company response to consumer</th>\n",
              "      <th>Timely response?</th>\n",
              "      <th>Consumer disputed?</th>\n",
              "      <th>Complaint ID</th>\n",
              "      <th>data</th>\n",
              "      <th>Day_Diff</th>\n",
              "    </tr>\n",
              "  </thead>\n",
              "  <tbody>\n",
              "    <tr>\n",
              "      <th>0</th>\n",
              "      <td>2014-05-15</td>\n",
              "      <td>Credit card</td>\n",
              "      <td>NaN</td>\n",
              "      <td>Billing statement</td>\n",
              "      <td>NaN</td>\n",
              "      <td>NaN</td>\n",
              "      <td>NaN</td>\n",
              "      <td>Wells Fargo &amp; Company</td>\n",
              "      <td>MI</td>\n",
              "      <td>48342</td>\n",
              "      <td>Older American</td>\n",
              "      <td>NaN</td>\n",
              "      <td>Web</td>\n",
              "      <td>2014-05-16</td>\n",
              "      <td>Closed with explanation</td>\n",
              "      <td>Yes</td>\n",
              "      <td>No</td>\n",
              "      <td>856103</td>\n",
              "      <td>train</td>\n",
              "      <td>86400000000000</td>\n",
              "    </tr>\n",
              "    <tr>\n",
              "      <th>1</th>\n",
              "      <td>2014-09-18</td>\n",
              "      <td>Bank account or service</td>\n",
              "      <td>(CD) Certificate of deposit</td>\n",
              "      <td>Making/receiving payments, sending money</td>\n",
              "      <td>NaN</td>\n",
              "      <td>NaN</td>\n",
              "      <td>NaN</td>\n",
              "      <td>Santander Bank US</td>\n",
              "      <td>PA</td>\n",
              "      <td>18042</td>\n",
              "      <td>NaN</td>\n",
              "      <td>NaN</td>\n",
              "      <td>Referral</td>\n",
              "      <td>2014-09-24</td>\n",
              "      <td>Closed</td>\n",
              "      <td>Yes</td>\n",
              "      <td>No</td>\n",
              "      <td>1034666</td>\n",
              "      <td>train</td>\n",
              "      <td>518400000000000</td>\n",
              "    </tr>\n",
              "    <tr>\n",
              "      <th>2</th>\n",
              "      <td>2014-03-13</td>\n",
              "      <td>Credit reporting</td>\n",
              "      <td>NaN</td>\n",
              "      <td>Incorrect information on credit report</td>\n",
              "      <td>Account status</td>\n",
              "      <td>NaN</td>\n",
              "      <td>NaN</td>\n",
              "      <td>Equifax</td>\n",
              "      <td>CA</td>\n",
              "      <td>92427</td>\n",
              "      <td>NaN</td>\n",
              "      <td>NaN</td>\n",
              "      <td>Referral</td>\n",
              "      <td>2014-04-03</td>\n",
              "      <td>Closed with non-monetary relief</td>\n",
              "      <td>Yes</td>\n",
              "      <td>No</td>\n",
              "      <td>756363</td>\n",
              "      <td>train</td>\n",
              "      <td>1814400000000000</td>\n",
              "    </tr>\n",
              "    <tr>\n",
              "      <th>3</th>\n",
              "      <td>2015-07-17</td>\n",
              "      <td>Credit card</td>\n",
              "      <td>NaN</td>\n",
              "      <td>Billing statement</td>\n",
              "      <td>NaN</td>\n",
              "      <td>My credit card statement from US Bank, XXXX. X...</td>\n",
              "      <td>Company chooses not to provide a public response</td>\n",
              "      <td>U.S. Bancorp</td>\n",
              "      <td>GA</td>\n",
              "      <td>305XX</td>\n",
              "      <td>Older American</td>\n",
              "      <td>Consent provided</td>\n",
              "      <td>Web</td>\n",
              "      <td>2015-07-17</td>\n",
              "      <td>Closed with monetary relief</td>\n",
              "      <td>Yes</td>\n",
              "      <td>No</td>\n",
              "      <td>1474177</td>\n",
              "      <td>train</td>\n",
              "      <td>0</td>\n",
              "    </tr>\n",
              "    <tr>\n",
              "      <th>4</th>\n",
              "      <td>2014-11-20</td>\n",
              "      <td>Credit card</td>\n",
              "      <td>NaN</td>\n",
              "      <td>Transaction issue</td>\n",
              "      <td>NaN</td>\n",
              "      <td>NaN</td>\n",
              "      <td>NaN</td>\n",
              "      <td>Bank of America</td>\n",
              "      <td>MA</td>\n",
              "      <td>02127</td>\n",
              "      <td>NaN</td>\n",
              "      <td>NaN</td>\n",
              "      <td>Web</td>\n",
              "      <td>2014-11-28</td>\n",
              "      <td>Closed with explanation</td>\n",
              "      <td>Yes</td>\n",
              "      <td>No</td>\n",
              "      <td>1132572</td>\n",
              "      <td>train</td>\n",
              "      <td>691200000000000</td>\n",
              "    </tr>\n",
              "  </tbody>\n",
              "</table>\n",
              "</div>"
            ],
            "text/plain": [
              "  Date received                  Product                  Sub-product  \\\n",
              "0    2014-05-15              Credit card                          NaN   \n",
              "1    2014-09-18  Bank account or service  (CD) Certificate of deposit   \n",
              "2    2014-03-13         Credit reporting                          NaN   \n",
              "3    2015-07-17              Credit card                          NaN   \n",
              "4    2014-11-20              Credit card                          NaN   \n",
              "\n",
              "                                      Issue       Sub-issue  \\\n",
              "0                         Billing statement             NaN   \n",
              "1  Making/receiving payments, sending money             NaN   \n",
              "2    Incorrect information on credit report  Account status   \n",
              "3                         Billing statement             NaN   \n",
              "4                         Transaction issue             NaN   \n",
              "\n",
              "                        Consumer complaint narrative  \\\n",
              "0                                                NaN   \n",
              "1                                                NaN   \n",
              "2                                                NaN   \n",
              "3  My credit card statement from US Bank, XXXX. X...   \n",
              "4                                                NaN   \n",
              "\n",
              "                            Company public response                Company  \\\n",
              "0                                               NaN  Wells Fargo & Company   \n",
              "1                                               NaN      Santander Bank US   \n",
              "2                                               NaN                Equifax   \n",
              "3  Company chooses not to provide a public response           U.S. Bancorp   \n",
              "4                                               NaN        Bank of America   \n",
              "\n",
              "  State ZIP code            Tags Consumer consent provided? Submitted via  \\\n",
              "0    MI    48342  Older American                        NaN           Web   \n",
              "1    PA    18042             NaN                        NaN      Referral   \n",
              "2    CA    92427             NaN                        NaN      Referral   \n",
              "3    GA    305XX  Older American           Consent provided           Web   \n",
              "4    MA    02127             NaN                        NaN           Web   \n",
              "\n",
              "  Date sent to company     Company response to consumer Timely response?  \\\n",
              "0           2014-05-16          Closed with explanation              Yes   \n",
              "1           2014-09-24                           Closed              Yes   \n",
              "2           2014-04-03  Closed with non-monetary relief              Yes   \n",
              "3           2015-07-17      Closed with monetary relief              Yes   \n",
              "4           2014-11-28          Closed with explanation              Yes   \n",
              "\n",
              "  Consumer disputed?  Complaint ID   data          Day_Diff  \n",
              "0                 No        856103  train    86400000000000  \n",
              "1                 No       1034666  train   518400000000000  \n",
              "2                 No        756363  train  1814400000000000  \n",
              "3                 No       1474177  train                 0  \n",
              "4                 No       1132572  train   691200000000000  "
            ]
          },
          "execution_count": 43,
          "metadata": {},
          "output_type": "execute_result"
        }
      ],
      "source": [
        "# Time required to forword the dispute to company\n",
        "cc_all['Day_Diff'] = pd.to_numeric(cc_all['Date sent to company']-cc_all['Date received'])\n",
        "cc_all.head()"
      ]
    },
    {
      "cell_type": "code",
      "execution_count": null,
      "metadata": {
        "id": "Vzw_vWKEu3FW"
      },
      "outputs": [],
      "source": [
        "# Dropping unnecessary features\n",
        "cc_all=cc_all.drop(['Date received','Date sent to company'], axis=1)"
      ]
    },
    {
      "cell_type": "code",
      "execution_count": null,
      "metadata": {
        "colab": {
          "base_uri": "https://localhost:8080/"
        },
        "id": "BjpAURHHu3FW",
        "outputId": "65d249ab-6177-4588-8782-5a263e9da1cc"
      },
      "outputs": [
        {
          "data": {
            "text/plain": [
              "Product                         object\n",
              "Sub-product                     object\n",
              "Issue                           object\n",
              "Sub-issue                       object\n",
              "Consumer complaint narrative    object\n",
              "Company public response         object\n",
              "Company                         object\n",
              "State                           object\n",
              "ZIP code                        object\n",
              "Tags                            object\n",
              "Consumer consent provided?      object\n",
              "Submitted via                   object\n",
              "Company response to consumer    object\n",
              "Timely response?                object\n",
              "Consumer disputed?              object\n",
              "Complaint ID                     int64\n",
              "data                            object\n",
              "Day_Diff                         int64\n",
              "dtype: object"
            ]
          },
          "execution_count": 45,
          "metadata": {},
          "output_type": "execute_result"
        }
      ],
      "source": [
        "cc_all.head()\n",
        "cc_all.dtypes"
      ]
    },
    {
      "cell_type": "code",
      "execution_count": null,
      "metadata": {
        "colab": {
          "base_uri": "https://localhost:8080/"
        },
        "id": "U7-VDYdFu3FW",
        "outputId": "db25f35a-d79d-4d96-ca6b-81d237b16068"
      },
      "outputs": [
        {
          "name": "stdout",
          "output_type": "stream",
          "text": [
            "Product - 12\n",
            "Sub-product - 47\n",
            "Issue - 95\n",
            "Sub-issue - 68\n",
            "Consumer complaint narrative - 92118\n",
            "Company public response - 10\n",
            "Company - 3437\n",
            "State - 62\n",
            "ZIP code - 27342\n",
            "Tags - 3\n",
            "Consumer consent provided? - 4\n",
            "Submitted via - 6\n",
            "Company response to consumer - 7\n",
            "Timely response? - 2\n",
            "Consumer disputed? - 2\n",
            "data - 2\n"
          ]
        }
      ],
      "source": [
        "#  Checking unique values in all object type features\n",
        "for col in cc_all.select_dtypes(['object']).columns:\n",
        "    print(col,'-',cc_all[col].nunique())"
      ]
    },
    {
      "cell_type": "code",
      "execution_count": null,
      "metadata": {
        "colab": {
          "base_uri": "https://localhost:8080/"
        },
        "id": "ovfCS_q1u3FX",
        "outputId": "a5e0bdbf-c1e2-46fc-a948-880f5fc4ea39"
      },
      "outputs": [
        {
          "data": {
            "text/plain": [
              "Product                              0\n",
              "Sub-product                     173225\n",
              "Issue                                0\n",
              "Sub-issue                       365685\n",
              "Consumer complaint narrative    504376\n",
              "Company public response         484859\n",
              "Company                              0\n",
              "State                             4764\n",
              "ZIP code                          4774\n",
              "Tags                            513950\n",
              "Consumer consent provided?      428676\n",
              "Submitted via                        1\n",
              "Company response to consumer         0\n",
              "Timely response?                     0\n",
              "Consumer disputed?              119606\n",
              "Complaint ID                         0\n",
              "data                                 0\n",
              "Day_Diff                             0\n",
              "dtype: int64"
            ]
          },
          "execution_count": 47,
          "metadata": {},
          "output_type": "execute_result"
        }
      ],
      "source": [
        "# Checking Null values\n",
        "cc_all.isnull().sum()"
      ]
    },
    {
      "cell_type": "markdown",
      "metadata": {
        "id": "MZN3B00hIaXF"
      },
      "source": [
        "Label Encoding"
      ]
    },
    {
      "cell_type": "code",
      "execution_count": null,
      "metadata": {
        "id": "maV6GgFhu3FY"
      },
      "outputs": [],
      "source": [
        "for col in ['Sub-issue','Sub-product','Consumer complaint narrative','Company public response','Tags','Consumer consent provided?']:\n",
        "    colname = col.replace('-','_').replace('?','').replace(\" \",'_') + '_isNan'\n",
        "    cc_all[colname] = np.where (pd.isnull(cc_all[col]),1,0)\n",
        "    cc_all.drop([col],axis=1,inplace=True) "
      ]
    },
    {
      "cell_type": "code",
      "execution_count": null,
      "metadata": {
        "id": "djWZgIUrYE_W"
      },
      "outputs": [],
      "source": [
        "cc_all['Timely response?'] = np.where(cc_all['Timely response?']=='Yes',1,0)"
      ]
    },
    {
      "cell_type": "code",
      "execution_count": null,
      "metadata": {
        "colab": {
          "base_uri": "https://localhost:8080/"
        },
        "id": "MDJTkDV9EqgA",
        "outputId": "bda89b68-edc9-49a8-8c72-385906420f65"
      },
      "outputs": [
        {
          "data": {
            "text/plain": [
              "0    1\n",
              "1    1\n",
              "2    1\n",
              "3    0\n",
              "4    1\n",
              "Name: Consumer_complaint_narrative_isNan, dtype: int32"
            ]
          },
          "execution_count": 50,
          "metadata": {},
          "output_type": "execute_result"
        }
      ],
      "source": [
        "cc_all['Consumer_complaint_narrative_isNan'].head()"
      ]
    },
    {
      "cell_type": "code",
      "execution_count": null,
      "metadata": {
        "colab": {
          "base_uri": "https://localhost:8080/"
        },
        "id": "yHGQLLqSu3FY",
        "outputId": "48e4a857-d703-4449-ed64-7f4976b13694"
      },
      "outputs": [
        {
          "name": "stdout",
          "output_type": "stream",
          "text": [
            "Product - 12\n",
            "Issue - 95\n",
            "Company - 3437\n",
            "State - 62\n",
            "ZIP code - 27342\n",
            "Submitted via - 6\n",
            "Company response to consumer - 7\n",
            "Consumer disputed? - 2\n",
            "data - 2\n"
          ]
        }
      ],
      "source": [
        "for col in cc_all.select_dtypes(['object']).columns:\n",
        "    print(col,'-',cc_all[col].nunique())"
      ]
    },
    {
      "cell_type": "code",
      "execution_count": null,
      "metadata": {
        "id": "_GVkedJlN899"
      },
      "outputs": [],
      "source": [
        "# Dropping unnecessary features\n",
        "cc_all.drop(['Company','ZIP code'], axis=1,inplace=True)"
      ]
    },
    {
      "cell_type": "code",
      "execution_count": null,
      "metadata": {
        "colab": {
          "base_uri": "https://localhost:8080/"
        },
        "id": "tSxzbE3bRH-d",
        "outputId": "125f4ffd-dade-48ae-ca03-563555479c8f"
      },
      "outputs": [
        {
          "name": "stdout",
          "output_type": "stream",
          "text": [
            "Product - 12\n",
            "Issue - 95\n",
            "State - 62\n",
            "Submitted via - 6\n",
            "Company response to consumer - 7\n",
            "Consumer disputed? - 2\n",
            "data - 2\n"
          ]
        }
      ],
      "source": [
        "for col in cc_all.select_dtypes(['object']).columns:\n",
        "    print(col,'-',cc_all[col].nunique())"
      ]
    },
    {
      "cell_type": "code",
      "execution_count": null,
      "metadata": {
        "id": "KwGDXuerZSZn"
      },
      "outputs": [],
      "source": [
        "m = cc_all['Issue'].value_counts()\n",
        "for col in m.axes[0][0:12]:\n",
        "    colname = 'Issue_' + col.replace(' ','_').replace(',','_')\n",
        "    cc_all[colname] = np.where(cc_all['Issue'] == col,1,0)\n",
        "del cc_all['Issue']\n"
      ]
    },
    {
      "cell_type": "code",
      "execution_count": null,
      "metadata": {
        "id": "u4UXQhYRd-Yv"
      },
      "outputs": [],
      "source": [
        "n = cc_all['State'].value_counts()\n",
        "for col in n.axes[0][0:15]:\n",
        "    colname ='State_' + col.replace(' ','_').replace(',','_')\n",
        "    cc_all[colname] = np.where(cc_all['State']==col,1,0)\n",
        "del cc_all['State']"
      ]
    },
    {
      "cell_type": "code",
      "execution_count": null,
      "metadata": {
        "id": "mvTGLRuTg7tL"
      },
      "outputs": [],
      "source": [
        "# Creating Dummy-\n",
        "for col in ['Product','Company response to consumer','Submitted via']:\n",
        "  var=pd.get_dummies(cc_all[col])\n",
        "  pd.concat([var,cc_all], axis=1)\n",
        "  cc_all.drop([col], axis=1,inplace=True)"
      ]
    },
    {
      "cell_type": "code",
      "execution_count": null,
      "metadata": {
        "colab": {
          "base_uri": "https://localhost:8080/",
          "height": 317
        },
        "id": "-m0HVDYejheK",
        "outputId": "d8c6c5a2-5e69-4bd7-a40e-bbe9d67fba87"
      },
      "outputs": [
        {
          "data": {
            "text/html": [
              "<div>\n",
              "<style scoped>\n",
              "    .dataframe tbody tr th:only-of-type {\n",
              "        vertical-align: middle;\n",
              "    }\n",
              "\n",
              "    .dataframe tbody tr th {\n",
              "        vertical-align: top;\n",
              "    }\n",
              "\n",
              "    .dataframe thead th {\n",
              "        text-align: right;\n",
              "    }\n",
              "</style>\n",
              "<table border=\"1\" class=\"dataframe\">\n",
              "  <thead>\n",
              "    <tr style=\"text-align: right;\">\n",
              "      <th></th>\n",
              "      <th>Timely response?</th>\n",
              "      <th>Consumer disputed?</th>\n",
              "      <th>Complaint ID</th>\n",
              "      <th>data</th>\n",
              "      <th>Day_Diff</th>\n",
              "      <th>Sub_issue_isNan</th>\n",
              "      <th>Sub_product_isNan</th>\n",
              "      <th>Consumer_complaint_narrative_isNan</th>\n",
              "      <th>Company_public_response_isNan</th>\n",
              "      <th>Tags_isNan</th>\n",
              "      <th>...</th>\n",
              "      <th>State_NJ</th>\n",
              "      <th>State_PA</th>\n",
              "      <th>State_IL</th>\n",
              "      <th>State_VA</th>\n",
              "      <th>State_MD</th>\n",
              "      <th>State_OH</th>\n",
              "      <th>State_NC</th>\n",
              "      <th>State_MI</th>\n",
              "      <th>State_AZ</th>\n",
              "      <th>State_WA</th>\n",
              "    </tr>\n",
              "  </thead>\n",
              "  <tbody>\n",
              "    <tr>\n",
              "      <th>0</th>\n",
              "      <td>1</td>\n",
              "      <td>No</td>\n",
              "      <td>856103</td>\n",
              "      <td>train</td>\n",
              "      <td>86400000000000</td>\n",
              "      <td>1</td>\n",
              "      <td>1</td>\n",
              "      <td>1</td>\n",
              "      <td>1</td>\n",
              "      <td>0</td>\n",
              "      <td>...</td>\n",
              "      <td>0</td>\n",
              "      <td>0</td>\n",
              "      <td>0</td>\n",
              "      <td>0</td>\n",
              "      <td>0</td>\n",
              "      <td>0</td>\n",
              "      <td>0</td>\n",
              "      <td>1</td>\n",
              "      <td>0</td>\n",
              "      <td>0</td>\n",
              "    </tr>\n",
              "    <tr>\n",
              "      <th>1</th>\n",
              "      <td>1</td>\n",
              "      <td>No</td>\n",
              "      <td>1034666</td>\n",
              "      <td>train</td>\n",
              "      <td>518400000000000</td>\n",
              "      <td>1</td>\n",
              "      <td>0</td>\n",
              "      <td>1</td>\n",
              "      <td>1</td>\n",
              "      <td>1</td>\n",
              "      <td>...</td>\n",
              "      <td>0</td>\n",
              "      <td>1</td>\n",
              "      <td>0</td>\n",
              "      <td>0</td>\n",
              "      <td>0</td>\n",
              "      <td>0</td>\n",
              "      <td>0</td>\n",
              "      <td>0</td>\n",
              "      <td>0</td>\n",
              "      <td>0</td>\n",
              "    </tr>\n",
              "    <tr>\n",
              "      <th>2</th>\n",
              "      <td>1</td>\n",
              "      <td>No</td>\n",
              "      <td>756363</td>\n",
              "      <td>train</td>\n",
              "      <td>1814400000000000</td>\n",
              "      <td>0</td>\n",
              "      <td>1</td>\n",
              "      <td>1</td>\n",
              "      <td>1</td>\n",
              "      <td>1</td>\n",
              "      <td>...</td>\n",
              "      <td>0</td>\n",
              "      <td>0</td>\n",
              "      <td>0</td>\n",
              "      <td>0</td>\n",
              "      <td>0</td>\n",
              "      <td>0</td>\n",
              "      <td>0</td>\n",
              "      <td>0</td>\n",
              "      <td>0</td>\n",
              "      <td>0</td>\n",
              "    </tr>\n",
              "    <tr>\n",
              "      <th>3</th>\n",
              "      <td>1</td>\n",
              "      <td>No</td>\n",
              "      <td>1474177</td>\n",
              "      <td>train</td>\n",
              "      <td>0</td>\n",
              "      <td>1</td>\n",
              "      <td>1</td>\n",
              "      <td>0</td>\n",
              "      <td>0</td>\n",
              "      <td>0</td>\n",
              "      <td>...</td>\n",
              "      <td>0</td>\n",
              "      <td>0</td>\n",
              "      <td>0</td>\n",
              "      <td>0</td>\n",
              "      <td>0</td>\n",
              "      <td>0</td>\n",
              "      <td>0</td>\n",
              "      <td>0</td>\n",
              "      <td>0</td>\n",
              "      <td>0</td>\n",
              "    </tr>\n",
              "    <tr>\n",
              "      <th>4</th>\n",
              "      <td>1</td>\n",
              "      <td>No</td>\n",
              "      <td>1132572</td>\n",
              "      <td>train</td>\n",
              "      <td>691200000000000</td>\n",
              "      <td>1</td>\n",
              "      <td>1</td>\n",
              "      <td>1</td>\n",
              "      <td>1</td>\n",
              "      <td>1</td>\n",
              "      <td>...</td>\n",
              "      <td>0</td>\n",
              "      <td>0</td>\n",
              "      <td>0</td>\n",
              "      <td>0</td>\n",
              "      <td>0</td>\n",
              "      <td>0</td>\n",
              "      <td>0</td>\n",
              "      <td>0</td>\n",
              "      <td>0</td>\n",
              "      <td>0</td>\n",
              "    </tr>\n",
              "  </tbody>\n",
              "</table>\n",
              "<p>5 rows × 38 columns</p>\n",
              "</div>"
            ],
            "text/plain": [
              "   Timely response? Consumer disputed?  Complaint ID   data          Day_Diff  \\\n",
              "0                 1                 No        856103  train    86400000000000   \n",
              "1                 1                 No       1034666  train   518400000000000   \n",
              "2                 1                 No        756363  train  1814400000000000   \n",
              "3                 1                 No       1474177  train                 0   \n",
              "4                 1                 No       1132572  train   691200000000000   \n",
              "\n",
              "   Sub_issue_isNan  Sub_product_isNan  Consumer_complaint_narrative_isNan  \\\n",
              "0                1                  1                                   1   \n",
              "1                1                  0                                   1   \n",
              "2                0                  1                                   1   \n",
              "3                1                  1                                   0   \n",
              "4                1                  1                                   1   \n",
              "\n",
              "   Company_public_response_isNan  Tags_isNan  ...  State_NJ  State_PA  \\\n",
              "0                              1           0  ...         0         0   \n",
              "1                              1           1  ...         0         1   \n",
              "2                              1           1  ...         0         0   \n",
              "3                              0           0  ...         0         0   \n",
              "4                              1           1  ...         0         0   \n",
              "\n",
              "   State_IL  State_VA  State_MD  State_OH  State_NC  State_MI  State_AZ  \\\n",
              "0         0         0         0         0         0         1         0   \n",
              "1         0         0         0         0         0         0         0   \n",
              "2         0         0         0         0         0         0         0   \n",
              "3         0         0         0         0         0         0         0   \n",
              "4         0         0         0         0         0         0         0   \n",
              "\n",
              "   State_WA  \n",
              "0         0  \n",
              "1         0  \n",
              "2         0  \n",
              "3         0  \n",
              "4         0  \n",
              "\n",
              "[5 rows x 38 columns]"
            ]
          },
          "execution_count": 57,
          "metadata": {},
          "output_type": "execute_result"
        }
      ],
      "source": [
        "cc_all.head()"
      ]
    },
    {
      "cell_type": "code",
      "execution_count": null,
      "metadata": {
        "colab": {
          "base_uri": "https://localhost:8080/",
          "height": 594
        },
        "id": "3dwXjVe0OlsL",
        "outputId": "95a9c5e0-df7a-4b27-c683-b72b9e467d10"
      },
      "outputs": [
        {
          "name": "stderr",
          "output_type": "stream",
          "text": [
            "C:\\Users\\Yogesh S\\AppData\\Local\\Temp\\ipykernel_20380\\3667721248.py:4: SettingWithCopyWarning: \n",
            "A value is trying to be set on a copy of a slice from a DataFrame\n",
            "\n",
            "See the caveats in the documentation: https://pandas.pydata.org/pandas-docs/stable/user_guide/indexing.html#returning-a-view-versus-a-copy\n",
            "  cc_train.drop(['data'], axis=1,inplace=True)\n",
            "C:\\Users\\Yogesh S\\AppData\\Local\\Temp\\ipykernel_20380\\3667721248.py:5: SettingWithCopyWarning: \n",
            "A value is trying to be set on a copy of a slice from a DataFrame\n",
            "\n",
            "See the caveats in the documentation: https://pandas.pydata.org/pandas-docs/stable/user_guide/indexing.html#returning-a-view-versus-a-copy\n",
            "  cc_test.drop(['data'], axis=1,inplace=True)\n",
            "C:\\Users\\Yogesh S\\AppData\\Local\\Temp\\ipykernel_20380\\3667721248.py:6: SettingWithCopyWarning: \n",
            "A value is trying to be set on a copy of a slice from a DataFrame.\n",
            "Try using .loc[row_indexer,col_indexer] = value instead\n",
            "\n",
            "See the caveats in the documentation: https://pandas.pydata.org/pandas-docs/stable/user_guide/indexing.html#returning-a-view-versus-a-copy\n",
            "  cc_train['Consumer disputed?'] = np.where(cc_train['Consumer disputed?']=='Yes',1,0)\n"
          ]
        },
        {
          "data": {
            "text/html": [
              "<div>\n",
              "<style scoped>\n",
              "    .dataframe tbody tr th:only-of-type {\n",
              "        vertical-align: middle;\n",
              "    }\n",
              "\n",
              "    .dataframe tbody tr th {\n",
              "        vertical-align: top;\n",
              "    }\n",
              "\n",
              "    .dataframe thead th {\n",
              "        text-align: right;\n",
              "    }\n",
              "</style>\n",
              "<table border=\"1\" class=\"dataframe\">\n",
              "  <thead>\n",
              "    <tr style=\"text-align: right;\">\n",
              "      <th></th>\n",
              "      <th>Timely response?</th>\n",
              "      <th>Consumer disputed?</th>\n",
              "      <th>Complaint ID</th>\n",
              "      <th>Day_Diff</th>\n",
              "      <th>Sub_issue_isNan</th>\n",
              "      <th>Sub_product_isNan</th>\n",
              "      <th>Consumer_complaint_narrative_isNan</th>\n",
              "      <th>Company_public_response_isNan</th>\n",
              "      <th>Tags_isNan</th>\n",
              "      <th>Consumer_consent_provided_isNan</th>\n",
              "      <th>...</th>\n",
              "      <th>State_NJ</th>\n",
              "      <th>State_PA</th>\n",
              "      <th>State_IL</th>\n",
              "      <th>State_VA</th>\n",
              "      <th>State_MD</th>\n",
              "      <th>State_OH</th>\n",
              "      <th>State_NC</th>\n",
              "      <th>State_MI</th>\n",
              "      <th>State_AZ</th>\n",
              "      <th>State_WA</th>\n",
              "    </tr>\n",
              "  </thead>\n",
              "  <tbody>\n",
              "    <tr>\n",
              "      <th>0</th>\n",
              "      <td>1</td>\n",
              "      <td>0</td>\n",
              "      <td>856103</td>\n",
              "      <td>86400000000000</td>\n",
              "      <td>1</td>\n",
              "      <td>1</td>\n",
              "      <td>1</td>\n",
              "      <td>1</td>\n",
              "      <td>0</td>\n",
              "      <td>1</td>\n",
              "      <td>...</td>\n",
              "      <td>0</td>\n",
              "      <td>0</td>\n",
              "      <td>0</td>\n",
              "      <td>0</td>\n",
              "      <td>0</td>\n",
              "      <td>0</td>\n",
              "      <td>0</td>\n",
              "      <td>1</td>\n",
              "      <td>0</td>\n",
              "      <td>0</td>\n",
              "    </tr>\n",
              "    <tr>\n",
              "      <th>1</th>\n",
              "      <td>1</td>\n",
              "      <td>0</td>\n",
              "      <td>1034666</td>\n",
              "      <td>518400000000000</td>\n",
              "      <td>1</td>\n",
              "      <td>0</td>\n",
              "      <td>1</td>\n",
              "      <td>1</td>\n",
              "      <td>1</td>\n",
              "      <td>1</td>\n",
              "      <td>...</td>\n",
              "      <td>0</td>\n",
              "      <td>1</td>\n",
              "      <td>0</td>\n",
              "      <td>0</td>\n",
              "      <td>0</td>\n",
              "      <td>0</td>\n",
              "      <td>0</td>\n",
              "      <td>0</td>\n",
              "      <td>0</td>\n",
              "      <td>0</td>\n",
              "    </tr>\n",
              "    <tr>\n",
              "      <th>2</th>\n",
              "      <td>1</td>\n",
              "      <td>0</td>\n",
              "      <td>756363</td>\n",
              "      <td>1814400000000000</td>\n",
              "      <td>0</td>\n",
              "      <td>1</td>\n",
              "      <td>1</td>\n",
              "      <td>1</td>\n",
              "      <td>1</td>\n",
              "      <td>1</td>\n",
              "      <td>...</td>\n",
              "      <td>0</td>\n",
              "      <td>0</td>\n",
              "      <td>0</td>\n",
              "      <td>0</td>\n",
              "      <td>0</td>\n",
              "      <td>0</td>\n",
              "      <td>0</td>\n",
              "      <td>0</td>\n",
              "      <td>0</td>\n",
              "      <td>0</td>\n",
              "    </tr>\n",
              "    <tr>\n",
              "      <th>3</th>\n",
              "      <td>1</td>\n",
              "      <td>0</td>\n",
              "      <td>1474177</td>\n",
              "      <td>0</td>\n",
              "      <td>1</td>\n",
              "      <td>1</td>\n",
              "      <td>0</td>\n",
              "      <td>0</td>\n",
              "      <td>0</td>\n",
              "      <td>0</td>\n",
              "      <td>...</td>\n",
              "      <td>0</td>\n",
              "      <td>0</td>\n",
              "      <td>0</td>\n",
              "      <td>0</td>\n",
              "      <td>0</td>\n",
              "      <td>0</td>\n",
              "      <td>0</td>\n",
              "      <td>0</td>\n",
              "      <td>0</td>\n",
              "      <td>0</td>\n",
              "    </tr>\n",
              "    <tr>\n",
              "      <th>4</th>\n",
              "      <td>1</td>\n",
              "      <td>0</td>\n",
              "      <td>1132572</td>\n",
              "      <td>691200000000000</td>\n",
              "      <td>1</td>\n",
              "      <td>1</td>\n",
              "      <td>1</td>\n",
              "      <td>1</td>\n",
              "      <td>1</td>\n",
              "      <td>1</td>\n",
              "      <td>...</td>\n",
              "      <td>0</td>\n",
              "      <td>0</td>\n",
              "      <td>0</td>\n",
              "      <td>0</td>\n",
              "      <td>0</td>\n",
              "      <td>0</td>\n",
              "      <td>0</td>\n",
              "      <td>0</td>\n",
              "      <td>0</td>\n",
              "      <td>0</td>\n",
              "    </tr>\n",
              "  </tbody>\n",
              "</table>\n",
              "<p>5 rows × 37 columns</p>\n",
              "</div>"
            ],
            "text/plain": [
              "   Timely response?  Consumer disputed?  Complaint ID          Day_Diff  \\\n",
              "0                 1                   0        856103    86400000000000   \n",
              "1                 1                   0       1034666   518400000000000   \n",
              "2                 1                   0        756363  1814400000000000   \n",
              "3                 1                   0       1474177                 0   \n",
              "4                 1                   0       1132572   691200000000000   \n",
              "\n",
              "   Sub_issue_isNan  Sub_product_isNan  Consumer_complaint_narrative_isNan  \\\n",
              "0                1                  1                                   1   \n",
              "1                1                  0                                   1   \n",
              "2                0                  1                                   1   \n",
              "3                1                  1                                   0   \n",
              "4                1                  1                                   1   \n",
              "\n",
              "   Company_public_response_isNan  Tags_isNan  Consumer_consent_provided_isNan  \\\n",
              "0                              1           0                                1   \n",
              "1                              1           1                                1   \n",
              "2                              1           1                                1   \n",
              "3                              0           0                                0   \n",
              "4                              1           1                                1   \n",
              "\n",
              "   ...  State_NJ  State_PA  State_IL  State_VA  State_MD  State_OH  State_NC  \\\n",
              "0  ...         0         0         0         0         0         0         0   \n",
              "1  ...         0         1         0         0         0         0         0   \n",
              "2  ...         0         0         0         0         0         0         0   \n",
              "3  ...         0         0         0         0         0         0         0   \n",
              "4  ...         0         0         0         0         0         0         0   \n",
              "\n",
              "   State_MI  State_AZ  State_WA  \n",
              "0         1         0         0  \n",
              "1         0         0         0  \n",
              "2         0         0         0  \n",
              "3         0         0         0  \n",
              "4         0         0         0  \n",
              "\n",
              "[5 rows x 37 columns]"
            ]
          },
          "execution_count": 58,
          "metadata": {},
          "output_type": "execute_result"
        }
      ],
      "source": [
        " cc_all['Consumer disputed?'].unique()\n",
        " cc_train = cc_all[cc_all['data'] == 'train']\n",
        " cc_test = cc_all[cc_all['data'] == 'test']\n",
        " cc_train.drop(['data'], axis=1,inplace=True)\n",
        " cc_test.drop(['data'], axis=1,inplace=True)\n",
        " cc_train['Consumer disputed?'] = np.where(cc_train['Consumer disputed?']=='Yes',1,0)\n",
        " cc_train.head()"
      ]
    },
    {
      "cell_type": "code",
      "execution_count": null,
      "metadata": {
        "id": "eFH-U16in7Zx"
      },
      "outputs": [],
      "source": [
        "# Creating input features and target feature for train data\n",
        "X = cc_train.drop(['Consumer disputed?','Complaint ID'],axis=1)\n",
        "y = cc_train ['Consumer disputed?']"
      ]
    },
    {
      "cell_type": "code",
      "execution_count": null,
      "metadata": {
        "colab": {
          "base_uri": "https://localhost:8080/"
        },
        "id": "qR5qcm-5nrMm",
        "outputId": "3064db59-d2c4-429f-cb7a-e979192fc9b7"
      },
      "outputs": [
        {
          "name": "stdout",
          "output_type": "stream",
          "text": [
            "[(0, 376990), (1, 376990)]\n"
          ]
        }
      ],
      "source": [
        "# Balancing the data-\n",
        "from imblearn.over_sampling import RandomOverSampler\n",
        "ros = RandomOverSampler(random_state=0)\n",
        "X_resampled, y_resampled = ros.fit_resample(X, y)\n",
        "from collections import Counter\n",
        "print(sorted(Counter(y_resampled).items()))"
      ]
    },
    {
      "cell_type": "code",
      "execution_count": null,
      "metadata": {
        "colab": {
          "base_uri": "https://localhost:8080/"
        },
        "id": "NWB6wOQGoQmQ",
        "outputId": "b98c475c-460e-4648-bb66-ae516995c47a"
      },
      "outputs": [
        {
          "data": {
            "text/plain": [
              "0    376990\n",
              "1    376990\n",
              "Name: Consumer disputed?, dtype: int64"
            ]
          },
          "execution_count": 61,
          "metadata": {},
          "output_type": "execute_result"
        }
      ],
      "source": [
        "y_resampled.value_counts()"
      ]
    },
    {
      "cell_type": "code",
      "execution_count": null,
      "metadata": {
        "id": "OFBfcFr_59Ps"
      },
      "outputs": [],
      "source": [
        "#Splitting the data--\n",
        "from sklearn.model_selection import train_test_split\n",
        "X_train,  X_test, y_train, y_test = train_test_split (X_resampled, y_resampled, test_size=0.3, random_state=1)"
      ]
    },
    {
      "cell_type": "code",
      "execution_count": null,
      "metadata": {
        "id": "ACIjkUxl5aJX"
      },
      "outputs": [],
      "source": [
        "# Creating input features and target feature for test data\n",
        "test_x = cc_test.drop(['Consumer disputed?','Complaint ID'],axis=1)\n",
        "test_y = cc_test ['Consumer disputed?']\n"
      ]
    },
    {
      "cell_type": "markdown",
      "metadata": {
        "id": "wyAalH5BSlG0"
      },
      "source": [
        "Model Building with logistic regression"
      ]
    },
    {
      "cell_type": "code",
      "execution_count": null,
      "metadata": {
        "id": "q_I-27KnpeS_"
      },
      "outputs": [],
      "source": [
        "from sklearn.linear_model import LogisticRegression"
      ]
    },
    {
      "cell_type": "code",
      "execution_count": null,
      "metadata": {
        "id": "NthxVtI0qiF9"
      },
      "outputs": [],
      "source": [
        "logr=LogisticRegression()"
      ]
    },
    {
      "cell_type": "code",
      "execution_count": null,
      "metadata": {
        "id": "j-no9O8FtQK_"
      },
      "outputs": [],
      "source": [
        "from sklearn.model_selection import RandomizedSearchCV\n",
        "parameter = {'penalty':['l2'],'C':[1,2,3],'max_iter':[100,200,300]}\n",
        "classifier_reg = RandomizedSearchCV(logr,parameter,n_jobs=-1,cv=5,error_score='raise')"
      ]
    },
    {
      "cell_type": "code",
      "execution_count": null,
      "metadata": {
        "colab": {
          "base_uri": "https://localhost:8080/",
          "height": 171
        },
        "id": "2acLj6YZx4Cv",
        "outputId": "d9c439f6-fadf-4a2a-b6b7-916941f45674"
      },
      "outputs": [
        {
          "name": "stderr",
          "output_type": "stream",
          "text": [
            "C:\\Users\\Yogesh S\\anaconda3\\lib\\site-packages\\sklearn\\model_selection\\_search.py:305: UserWarning: The total space of parameters 9 is smaller than n_iter=10. Running 9 iterations. For exhaustive searches, use GridSearchCV.\n",
            "  warnings.warn(\n"
          ]
        },
        {
          "data": {
            "text/html": [
              "<style>#sk-container-id-1 {color: black;background-color: white;}#sk-container-id-1 pre{padding: 0;}#sk-container-id-1 div.sk-toggleable {background-color: white;}#sk-container-id-1 label.sk-toggleable__label {cursor: pointer;display: block;width: 100%;margin-bottom: 0;padding: 0.3em;box-sizing: border-box;text-align: center;}#sk-container-id-1 label.sk-toggleable__label-arrow:before {content: \"▸\";float: left;margin-right: 0.25em;color: #696969;}#sk-container-id-1 label.sk-toggleable__label-arrow:hover:before {color: black;}#sk-container-id-1 div.sk-estimator:hover label.sk-toggleable__label-arrow:before {color: black;}#sk-container-id-1 div.sk-toggleable__content {max-height: 0;max-width: 0;overflow: hidden;text-align: left;background-color: #f0f8ff;}#sk-container-id-1 div.sk-toggleable__content pre {margin: 0.2em;color: black;border-radius: 0.25em;background-color: #f0f8ff;}#sk-container-id-1 input.sk-toggleable__control:checked~div.sk-toggleable__content {max-height: 200px;max-width: 100%;overflow: auto;}#sk-container-id-1 input.sk-toggleable__control:checked~label.sk-toggleable__label-arrow:before {content: \"▾\";}#sk-container-id-1 div.sk-estimator input.sk-toggleable__control:checked~label.sk-toggleable__label {background-color: #d4ebff;}#sk-container-id-1 div.sk-label input.sk-toggleable__control:checked~label.sk-toggleable__label {background-color: #d4ebff;}#sk-container-id-1 input.sk-hidden--visually {border: 0;clip: rect(1px 1px 1px 1px);clip: rect(1px, 1px, 1px, 1px);height: 1px;margin: -1px;overflow: hidden;padding: 0;position: absolute;width: 1px;}#sk-container-id-1 div.sk-estimator {font-family: monospace;background-color: #f0f8ff;border: 1px dotted black;border-radius: 0.25em;box-sizing: border-box;margin-bottom: 0.5em;}#sk-container-id-1 div.sk-estimator:hover {background-color: #d4ebff;}#sk-container-id-1 div.sk-parallel-item::after {content: \"\";width: 100%;border-bottom: 1px solid gray;flex-grow: 1;}#sk-container-id-1 div.sk-label:hover label.sk-toggleable__label {background-color: #d4ebff;}#sk-container-id-1 div.sk-serial::before {content: \"\";position: absolute;border-left: 1px solid gray;box-sizing: border-box;top: 0;bottom: 0;left: 50%;z-index: 0;}#sk-container-id-1 div.sk-serial {display: flex;flex-direction: column;align-items: center;background-color: white;padding-right: 0.2em;padding-left: 0.2em;position: relative;}#sk-container-id-1 div.sk-item {position: relative;z-index: 1;}#sk-container-id-1 div.sk-parallel {display: flex;align-items: stretch;justify-content: center;background-color: white;position: relative;}#sk-container-id-1 div.sk-item::before, #sk-container-id-1 div.sk-parallel-item::before {content: \"\";position: absolute;border-left: 1px solid gray;box-sizing: border-box;top: 0;bottom: 0;left: 50%;z-index: -1;}#sk-container-id-1 div.sk-parallel-item {display: flex;flex-direction: column;z-index: 1;position: relative;background-color: white;}#sk-container-id-1 div.sk-parallel-item:first-child::after {align-self: flex-end;width: 50%;}#sk-container-id-1 div.sk-parallel-item:last-child::after {align-self: flex-start;width: 50%;}#sk-container-id-1 div.sk-parallel-item:only-child::after {width: 0;}#sk-container-id-1 div.sk-dashed-wrapped {border: 1px dashed gray;margin: 0 0.4em 0.5em 0.4em;box-sizing: border-box;padding-bottom: 0.4em;background-color: white;}#sk-container-id-1 div.sk-label label {font-family: monospace;font-weight: bold;display: inline-block;line-height: 1.2em;}#sk-container-id-1 div.sk-label-container {text-align: center;}#sk-container-id-1 div.sk-container {/* jupyter's `normalize.less` sets `[hidden] { display: none; }` but bootstrap.min.css set `[hidden] { display: none !important; }` so we also need the `!important` here to be able to override the default hidden behavior on the sphinx rendered scikit-learn.org. See: https://github.com/scikit-learn/scikit-learn/issues/21755 */display: inline-block !important;position: relative;}#sk-container-id-1 div.sk-text-repr-fallback {display: none;}</style><div id=\"sk-container-id-1\" class=\"sk-top-container\"><div class=\"sk-text-repr-fallback\"><pre>RandomizedSearchCV(cv=5, error_score=&#x27;raise&#x27;, estimator=LogisticRegression(),\n",
              "                   n_jobs=-1,\n",
              "                   param_distributions={&#x27;C&#x27;: [1, 2, 3],\n",
              "                                        &#x27;max_iter&#x27;: [100, 200, 300],\n",
              "                                        &#x27;penalty&#x27;: [&#x27;l2&#x27;]})</pre><b>In a Jupyter environment, please rerun this cell to show the HTML representation or trust the notebook. <br />On GitHub, the HTML representation is unable to render, please try loading this page with nbviewer.org.</b></div><div class=\"sk-container\" hidden><div class=\"sk-item sk-dashed-wrapped\"><div class=\"sk-label-container\"><div class=\"sk-label sk-toggleable\"><input class=\"sk-toggleable__control sk-hidden--visually\" id=\"sk-estimator-id-1\" type=\"checkbox\" ><label for=\"sk-estimator-id-1\" class=\"sk-toggleable__label sk-toggleable__label-arrow\">RandomizedSearchCV</label><div class=\"sk-toggleable__content\"><pre>RandomizedSearchCV(cv=5, error_score=&#x27;raise&#x27;, estimator=LogisticRegression(),\n",
              "                   n_jobs=-1,\n",
              "                   param_distributions={&#x27;C&#x27;: [1, 2, 3],\n",
              "                                        &#x27;max_iter&#x27;: [100, 200, 300],\n",
              "                                        &#x27;penalty&#x27;: [&#x27;l2&#x27;]})</pre></div></div></div><div class=\"sk-parallel\"><div class=\"sk-parallel-item\"><div class=\"sk-item\"><div class=\"sk-label-container\"><div class=\"sk-label sk-toggleable\"><input class=\"sk-toggleable__control sk-hidden--visually\" id=\"sk-estimator-id-2\" type=\"checkbox\" ><label for=\"sk-estimator-id-2\" class=\"sk-toggleable__label sk-toggleable__label-arrow\">estimator: LogisticRegression</label><div class=\"sk-toggleable__content\"><pre>LogisticRegression()</pre></div></div></div><div class=\"sk-serial\"><div class=\"sk-item\"><div class=\"sk-estimator sk-toggleable\"><input class=\"sk-toggleable__control sk-hidden--visually\" id=\"sk-estimator-id-3\" type=\"checkbox\" ><label for=\"sk-estimator-id-3\" class=\"sk-toggleable__label sk-toggleable__label-arrow\">LogisticRegression</label><div class=\"sk-toggleable__content\"><pre>LogisticRegression()</pre></div></div></div></div></div></div></div></div></div></div>"
            ],
            "text/plain": [
              "RandomizedSearchCV(cv=5, error_score='raise', estimator=LogisticRegression(),\n",
              "                   n_jobs=-1,\n",
              "                   param_distributions={'C': [1, 2, 3],\n",
              "                                        'max_iter': [100, 200, 300],\n",
              "                                        'penalty': ['l2']})"
            ]
          },
          "execution_count": 35,
          "metadata": {},
          "output_type": "execute_result"
        }
      ],
      "source": [
        "#Fitting to the model\n",
        "classifier_reg.fit(X_train,y_train)"
      ]
    },
    {
      "cell_type": "code",
      "execution_count": null,
      "metadata": {
        "colab": {
          "base_uri": "https://localhost:8080/"
        },
        "id": "3JxjNhmXIjA6",
        "outputId": "392cfe81-8357-4b44-c985-f3faa35c6c55"
      },
      "outputs": [
        {
          "name": "stdout",
          "output_type": "stream",
          "text": [
            "{'penalty': 'l2', 'max_iter': 100, 'C': 1}\n"
          ]
        }
      ],
      "source": [
        "print(classifier_reg.best_params_)"
      ]
    },
    {
      "cell_type": "code",
      "execution_count": null,
      "metadata": {
        "colab": {
          "base_uri": "https://localhost:8080/"
        },
        "id": "lLy6rxiyIye5",
        "outputId": "a8701303-dc37-48ba-a4d5-50b40080cefc"
      },
      "outputs": [
        {
          "name": "stdout",
          "output_type": "stream",
          "text": [
            "0.5274675729353399\n"
          ]
        }
      ],
      "source": [
        "print(classifier_reg.best_score_)"
      ]
    },
    {
      "cell_type": "code",
      "execution_count": null,
      "metadata": {
        "id": "LLkCASSCtkZW"
      },
      "outputs": [],
      "source": [
        "y_pred = classifier_reg.predict(X_test)\n",
        "y_pred2 = classifier_reg.predict_proba(X_test)"
      ]
    },
    {
      "cell_type": "markdown",
      "metadata": {
        "id": "vD-ZsN33Utkw"
      },
      "source": [
        "Validation Technique"
      ]
    },
    {
      "cell_type": "code",
      "execution_count": null,
      "metadata": {
        "id": "mx17cXQpJ7N1"
      },
      "outputs": [],
      "source": [
        "from sklearn.metrics import accuracy_score,confusion_matrix,classification_report,roc_auc_score"
      ]
    },
    {
      "cell_type": "code",
      "execution_count": null,
      "metadata": {
        "colab": {
          "base_uri": "https://localhost:8080/"
        },
        "id": "7udHZGXKMoPh",
        "outputId": "0f1f4e0f-f1c6-4b34-fa4f-05aaba48dbc6"
      },
      "outputs": [
        {
          "name": "stdout",
          "output_type": "stream",
          "text": [
            "0.5277195681583066\n"
          ]
        }
      ],
      "source": [
        "score = accuracy_score (y_pred,y_test)\n",
        "print(score)"
      ]
    },
    {
      "cell_type": "code",
      "execution_count": null,
      "metadata": {
        "colab": {
          "base_uri": "https://localhost:8080/"
        },
        "id": "nc1T4HNwlt7D",
        "outputId": "532b54b1-d626-49aa-def6-c12bd7dbd31e"
      },
      "outputs": [
        {
          "name": "stdout",
          "output_type": "stream",
          "text": [
            "              precision    recall  f1-score   support\n",
            "\n",
            "           0       0.68      0.52      0.59    148363\n",
            "           1       0.37      0.54      0.44     77831\n",
            "\n",
            "    accuracy                           0.53    226194\n",
            "   macro avg       0.53      0.53      0.52    226194\n",
            "weighted avg       0.58      0.53      0.54    226194\n",
            "\n"
          ]
        }
      ],
      "source": [
        "class_repo=classification_report(y_pred,y_test)\n",
        "print(class_repo)"
      ]
    },
    {
      "cell_type": "code",
      "execution_count": null,
      "metadata": {
        "colab": {
          "base_uri": "https://localhost:8080/"
        },
        "id": "p6zM6VpuqkVJ",
        "outputId": "895e2eec-8916-4197-bed2-52adccc06425"
      },
      "outputs": [
        {
          "name": "stdout",
          "output_type": "stream",
          "text": [
            "0.5280546864905155\n"
          ]
        }
      ],
      "source": [
        "roc_auc=roc_auc_score(y_test,y_pred)\n",
        "print(roc_auc)"
      ]
    },
    {
      "cell_type": "markdown",
      "metadata": {
        "id": "dpfYfpJyUj0v"
      },
      "source": [
        "Actual test prediction"
      ]
    },
    {
      "cell_type": "code",
      "execution_count": null,
      "metadata": {
        "id": "fRQkfCxAJvau"
      },
      "outputs": [],
      "source": [
        "y1_pred2_proba = classifier_reg.predict_proba(test_x)\n",
        "y1_pred2 = classifier_reg.predict(test_x)"
      ]
    },
    {
      "cell_type": "code",
      "execution_count": null,
      "metadata": {
        "id": "2NrvbCugNX_Y"
      },
      "outputs": [],
      "source": [
        "pd.DataFrame(list(zip(cc_test['Complaint ID'],list(y1_pred2))),columns=['Complaint ID','Consumer disputed?']).to_csv('consumer_services_project_log_reg.csv')"
      ]
    },
    {
      "cell_type": "markdown",
      "metadata": {
        "id": "q5Xq7IEnbZ4h"
      },
      "source": [
        "*Next* Model-Random Forest"
      ]
    },
    {
      "cell_type": "code",
      "execution_count": null,
      "metadata": {
        "id": "ctJ01qstd1hd"
      },
      "outputs": [],
      "source": [
        "from sklearn.ensemble import RandomForestClassifier\n",
        "rfc = RandomForestClassifier()"
      ]
    },
    {
      "cell_type": "code",
      "execution_count": null,
      "metadata": {
        "id": "mr2g28fZg2Xr"
      },
      "outputs": [],
      "source": [
        "from sklearn.model_selection import RandomizedSearchCV\n",
        "parameter = {'n_estimators':[100,200,300], 'max_depth':[5,10,15], 'min_samples_split':[2,4,8] }\n",
        "rfc_classifier = RandomizedSearchCV(rfc,parameter,scoring='accuracy',cv=5,error_score='raise',n_jobs=-1)"
      ]
    },
    {
      "cell_type": "code",
      "execution_count": null,
      "metadata": {
        "id": "4PI3ARNrez1F",
        "outputId": "5f8afa6f-b55c-41b0-d319-1d37076cbb4f"
      },
      "outputs": [
        {
          "data": {
            "text/html": [
              "<style>#sk-container-id-2 {color: black;background-color: white;}#sk-container-id-2 pre{padding: 0;}#sk-container-id-2 div.sk-toggleable {background-color: white;}#sk-container-id-2 label.sk-toggleable__label {cursor: pointer;display: block;width: 100%;margin-bottom: 0;padding: 0.3em;box-sizing: border-box;text-align: center;}#sk-container-id-2 label.sk-toggleable__label-arrow:before {content: \"▸\";float: left;margin-right: 0.25em;color: #696969;}#sk-container-id-2 label.sk-toggleable__label-arrow:hover:before {color: black;}#sk-container-id-2 div.sk-estimator:hover label.sk-toggleable__label-arrow:before {color: black;}#sk-container-id-2 div.sk-toggleable__content {max-height: 0;max-width: 0;overflow: hidden;text-align: left;background-color: #f0f8ff;}#sk-container-id-2 div.sk-toggleable__content pre {margin: 0.2em;color: black;border-radius: 0.25em;background-color: #f0f8ff;}#sk-container-id-2 input.sk-toggleable__control:checked~div.sk-toggleable__content {max-height: 200px;max-width: 100%;overflow: auto;}#sk-container-id-2 input.sk-toggleable__control:checked~label.sk-toggleable__label-arrow:before {content: \"▾\";}#sk-container-id-2 div.sk-estimator input.sk-toggleable__control:checked~label.sk-toggleable__label {background-color: #d4ebff;}#sk-container-id-2 div.sk-label input.sk-toggleable__control:checked~label.sk-toggleable__label {background-color: #d4ebff;}#sk-container-id-2 input.sk-hidden--visually {border: 0;clip: rect(1px 1px 1px 1px);clip: rect(1px, 1px, 1px, 1px);height: 1px;margin: -1px;overflow: hidden;padding: 0;position: absolute;width: 1px;}#sk-container-id-2 div.sk-estimator {font-family: monospace;background-color: #f0f8ff;border: 1px dotted black;border-radius: 0.25em;box-sizing: border-box;margin-bottom: 0.5em;}#sk-container-id-2 div.sk-estimator:hover {background-color: #d4ebff;}#sk-container-id-2 div.sk-parallel-item::after {content: \"\";width: 100%;border-bottom: 1px solid gray;flex-grow: 1;}#sk-container-id-2 div.sk-label:hover label.sk-toggleable__label {background-color: #d4ebff;}#sk-container-id-2 div.sk-serial::before {content: \"\";position: absolute;border-left: 1px solid gray;box-sizing: border-box;top: 0;bottom: 0;left: 50%;z-index: 0;}#sk-container-id-2 div.sk-serial {display: flex;flex-direction: column;align-items: center;background-color: white;padding-right: 0.2em;padding-left: 0.2em;position: relative;}#sk-container-id-2 div.sk-item {position: relative;z-index: 1;}#sk-container-id-2 div.sk-parallel {display: flex;align-items: stretch;justify-content: center;background-color: white;position: relative;}#sk-container-id-2 div.sk-item::before, #sk-container-id-2 div.sk-parallel-item::before {content: \"\";position: absolute;border-left: 1px solid gray;box-sizing: border-box;top: 0;bottom: 0;left: 50%;z-index: -1;}#sk-container-id-2 div.sk-parallel-item {display: flex;flex-direction: column;z-index: 1;position: relative;background-color: white;}#sk-container-id-2 div.sk-parallel-item:first-child::after {align-self: flex-end;width: 50%;}#sk-container-id-2 div.sk-parallel-item:last-child::after {align-self: flex-start;width: 50%;}#sk-container-id-2 div.sk-parallel-item:only-child::after {width: 0;}#sk-container-id-2 div.sk-dashed-wrapped {border: 1px dashed gray;margin: 0 0.4em 0.5em 0.4em;box-sizing: border-box;padding-bottom: 0.4em;background-color: white;}#sk-container-id-2 div.sk-label label {font-family: monospace;font-weight: bold;display: inline-block;line-height: 1.2em;}#sk-container-id-2 div.sk-label-container {text-align: center;}#sk-container-id-2 div.sk-container {/* jupyter's `normalize.less` sets `[hidden] { display: none; }` but bootstrap.min.css set `[hidden] { display: none !important; }` so we also need the `!important` here to be able to override the default hidden behavior on the sphinx rendered scikit-learn.org. See: https://github.com/scikit-learn/scikit-learn/issues/21755 */display: inline-block !important;position: relative;}#sk-container-id-2 div.sk-text-repr-fallback {display: none;}</style><div id=\"sk-container-id-2\" class=\"sk-top-container\"><div class=\"sk-text-repr-fallback\"><pre>RandomizedSearchCV(cv=5, error_score=&#x27;raise&#x27;,\n",
              "                   estimator=RandomForestClassifier(), n_jobs=-1,\n",
              "                   param_distributions={&#x27;max_depth&#x27;: [5, 10, 15],\n",
              "                                        &#x27;min_samples_split&#x27;: [2, 4, 8],\n",
              "                                        &#x27;n_estimators&#x27;: [100, 200, 300]},\n",
              "                   scoring=&#x27;accuracy&#x27;)</pre><b>In a Jupyter environment, please rerun this cell to show the HTML representation or trust the notebook. <br />On GitHub, the HTML representation is unable to render, please try loading this page with nbviewer.org.</b></div><div class=\"sk-container\" hidden><div class=\"sk-item sk-dashed-wrapped\"><div class=\"sk-label-container\"><div class=\"sk-label sk-toggleable\"><input class=\"sk-toggleable__control sk-hidden--visually\" id=\"sk-estimator-id-4\" type=\"checkbox\" ><label for=\"sk-estimator-id-4\" class=\"sk-toggleable__label sk-toggleable__label-arrow\">RandomizedSearchCV</label><div class=\"sk-toggleable__content\"><pre>RandomizedSearchCV(cv=5, error_score=&#x27;raise&#x27;,\n",
              "                   estimator=RandomForestClassifier(), n_jobs=-1,\n",
              "                   param_distributions={&#x27;max_depth&#x27;: [5, 10, 15],\n",
              "                                        &#x27;min_samples_split&#x27;: [2, 4, 8],\n",
              "                                        &#x27;n_estimators&#x27;: [100, 200, 300]},\n",
              "                   scoring=&#x27;accuracy&#x27;)</pre></div></div></div><div class=\"sk-parallel\"><div class=\"sk-parallel-item\"><div class=\"sk-item\"><div class=\"sk-label-container\"><div class=\"sk-label sk-toggleable\"><input class=\"sk-toggleable__control sk-hidden--visually\" id=\"sk-estimator-id-5\" type=\"checkbox\" ><label for=\"sk-estimator-id-5\" class=\"sk-toggleable__label sk-toggleable__label-arrow\">estimator: RandomForestClassifier</label><div class=\"sk-toggleable__content\"><pre>RandomForestClassifier()</pre></div></div></div><div class=\"sk-serial\"><div class=\"sk-item\"><div class=\"sk-estimator sk-toggleable\"><input class=\"sk-toggleable__control sk-hidden--visually\" id=\"sk-estimator-id-6\" type=\"checkbox\" ><label for=\"sk-estimator-id-6\" class=\"sk-toggleable__label sk-toggleable__label-arrow\">RandomForestClassifier</label><div class=\"sk-toggleable__content\"><pre>RandomForestClassifier()</pre></div></div></div></div></div></div></div></div></div></div>"
            ],
            "text/plain": [
              "RandomizedSearchCV(cv=5, error_score='raise',\n",
              "                   estimator=RandomForestClassifier(), n_jobs=-1,\n",
              "                   param_distributions={'max_depth': [5, 10, 15],\n",
              "                                        'min_samples_split': [2, 4, 8],\n",
              "                                        'n_estimators': [100, 200, 300]},\n",
              "                   scoring='accuracy')"
            ]
          },
          "execution_count": 47,
          "metadata": {},
          "output_type": "execute_result"
        }
      ],
      "source": [
        "rfc_classifier.fit(X_train,y_train)"
      ]
    },
    {
      "cell_type": "code",
      "execution_count": null,
      "metadata": {
        "id": "W8UO1Tas2PON"
      },
      "outputs": [],
      "source": [
        "# Pickling the model- Random forest \n",
        "import pickle\n",
        "pickle.dump(rfc_classifier, open('rfc_classifier.pkl', 'wb'))"
      ]
    },
    {
      "cell_type": "code",
      "execution_count": null,
      "metadata": {
        "id": "wG5sfZfQKWXc"
      },
      "outputs": [],
      "source": [
        "pickled_rf = pickle.load(open('rfc_classifier.pkl', 'rb'))"
      ]
    },
    {
      "cell_type": "code",
      "execution_count": null,
      "metadata": {
        "id": "4fbQ6rJKhMmL",
        "outputId": "8eca8535-fa1e-4109-861b-e41d0588e30c"
      },
      "outputs": [
        {
          "name": "stdout",
          "output_type": "stream",
          "text": [
            "{'n_estimators': 300, 'min_samples_split': 2, 'max_depth': 15}\n",
            "0.5721371938285584\n"
          ]
        }
      ],
      "source": [
        "print(pickled_rf.best_params_)\n",
        "print(pickled_rf.best_score_)"
      ]
    },
    {
      "cell_type": "code",
      "execution_count": null,
      "metadata": {
        "id": "KperErdagY_7"
      },
      "outputs": [],
      "source": [
        "y_rfc_pred = pickled_rf.predict(X_test)"
      ]
    },
    {
      "cell_type": "code",
      "execution_count": null,
      "metadata": {
        "id": "BQhlbz2VTswt",
        "outputId": "a0b27bb0-8ab3-406b-cdd2-8e42e5a7400a"
      },
      "outputs": [
        {
          "name": "stdout",
          "output_type": "stream",
          "text": [
            "0.5737199041530722\n",
            "[[57683 41251]\n",
            " [55171 72089]]\n",
            "0.5747577404743238\n"
          ]
        }
      ],
      "source": [
        "print(accuracy_score(y_rfc_pred,y_test))\n",
        "print(confusion_matrix(y_rfc_pred,y_test))\n",
        "print(roc_auc_score(y_rfc_pred,y_test))"
      ]
    },
    {
      "cell_type": "code",
      "execution_count": null,
      "metadata": {
        "id": "_Jz8Fb7ggmo0"
      },
      "outputs": [],
      "source": [
        "# Predicting actual test data\n",
        "y_rfc_pred2 = pickled_rf.predict(test_x)"
      ]
    },
    {
      "cell_type": "code",
      "execution_count": null,
      "metadata": {
        "id": "jQg8WHlZWoyG",
        "outputId": "b24744b9-5e24-49f9-9bd0-ced3034c5e19"
      },
      "outputs": [
        {
          "name": "stdout",
          "output_type": "stream",
          "text": [
            "[0 0 1 ... 0 0 0]\n"
          ]
        }
      ],
      "source": [
        "print(y_rfc_pred2)"
      ]
    },
    {
      "cell_type": "code",
      "execution_count": null,
      "metadata": {
        "id": "jJtVjBbjiZrO"
      },
      "outputs": [],
      "source": [
        "pd.DataFrame(list(zip(cc_test['Complaint ID'],list(y_rfc_pred2))),columns=['Complaint ID','Consumer disputed?']).to_csv('consumer_services_project_rf.csv')"
      ]
    },
    {
      "cell_type": "markdown",
      "metadata": {
        "id": "sWtTkwEiXdKs"
      },
      "source": [
        "Next Model- Gradient Boosting"
      ]
    },
    {
      "cell_type": "code",
      "execution_count": null,
      "metadata": {
        "id": "anuqS3N1XjsP"
      },
      "outputs": [],
      "source": [
        "from sklearn.ensemble import GradientBoostingClassifier\n",
        "gbclass = GradientBoostingClassifier()"
      ]
    },
    {
      "cell_type": "code",
      "execution_count": null,
      "metadata": {
        "id": "kusTJ4fbwWc9"
      },
      "outputs": [],
      "source": [
        "from sklearn.model_selection import RandomizedSearchCV\n",
        "parameter = {'n_estimators':[100,200,300], 'max_depth':[3,5,7,10], 'min_samples_split':[2,4,6,8]}\n",
        "gbm_classifier = RandomizedSearchCV(gbclass,parameter,cv=5,random_state =30,error_score='raise', n_jobs=-1)"
      ]
    },
    {
      "cell_type": "code",
      "execution_count": null,
      "metadata": {
        "id": "i9H7VuPCxf4h",
        "outputId": "6fadc47a-610a-4e21-d2ec-8be858c777fc"
      },
      "outputs": [
        {
          "data": {
            "text/html": [
              "<style>#sk-container-id-1 {color: black;background-color: white;}#sk-container-id-1 pre{padding: 0;}#sk-container-id-1 div.sk-toggleable {background-color: white;}#sk-container-id-1 label.sk-toggleable__label {cursor: pointer;display: block;width: 100%;margin-bottom: 0;padding: 0.3em;box-sizing: border-box;text-align: center;}#sk-container-id-1 label.sk-toggleable__label-arrow:before {content: \"▸\";float: left;margin-right: 0.25em;color: #696969;}#sk-container-id-1 label.sk-toggleable__label-arrow:hover:before {color: black;}#sk-container-id-1 div.sk-estimator:hover label.sk-toggleable__label-arrow:before {color: black;}#sk-container-id-1 div.sk-toggleable__content {max-height: 0;max-width: 0;overflow: hidden;text-align: left;background-color: #f0f8ff;}#sk-container-id-1 div.sk-toggleable__content pre {margin: 0.2em;color: black;border-radius: 0.25em;background-color: #f0f8ff;}#sk-container-id-1 input.sk-toggleable__control:checked~div.sk-toggleable__content {max-height: 200px;max-width: 100%;overflow: auto;}#sk-container-id-1 input.sk-toggleable__control:checked~label.sk-toggleable__label-arrow:before {content: \"▾\";}#sk-container-id-1 div.sk-estimator input.sk-toggleable__control:checked~label.sk-toggleable__label {background-color: #d4ebff;}#sk-container-id-1 div.sk-label input.sk-toggleable__control:checked~label.sk-toggleable__label {background-color: #d4ebff;}#sk-container-id-1 input.sk-hidden--visually {border: 0;clip: rect(1px 1px 1px 1px);clip: rect(1px, 1px, 1px, 1px);height: 1px;margin: -1px;overflow: hidden;padding: 0;position: absolute;width: 1px;}#sk-container-id-1 div.sk-estimator {font-family: monospace;background-color: #f0f8ff;border: 1px dotted black;border-radius: 0.25em;box-sizing: border-box;margin-bottom: 0.5em;}#sk-container-id-1 div.sk-estimator:hover {background-color: #d4ebff;}#sk-container-id-1 div.sk-parallel-item::after {content: \"\";width: 100%;border-bottom: 1px solid gray;flex-grow: 1;}#sk-container-id-1 div.sk-label:hover label.sk-toggleable__label {background-color: #d4ebff;}#sk-container-id-1 div.sk-serial::before {content: \"\";position: absolute;border-left: 1px solid gray;box-sizing: border-box;top: 0;bottom: 0;left: 50%;z-index: 0;}#sk-container-id-1 div.sk-serial {display: flex;flex-direction: column;align-items: center;background-color: white;padding-right: 0.2em;padding-left: 0.2em;position: relative;}#sk-container-id-1 div.sk-item {position: relative;z-index: 1;}#sk-container-id-1 div.sk-parallel {display: flex;align-items: stretch;justify-content: center;background-color: white;position: relative;}#sk-container-id-1 div.sk-item::before, #sk-container-id-1 div.sk-parallel-item::before {content: \"\";position: absolute;border-left: 1px solid gray;box-sizing: border-box;top: 0;bottom: 0;left: 50%;z-index: -1;}#sk-container-id-1 div.sk-parallel-item {display: flex;flex-direction: column;z-index: 1;position: relative;background-color: white;}#sk-container-id-1 div.sk-parallel-item:first-child::after {align-self: flex-end;width: 50%;}#sk-container-id-1 div.sk-parallel-item:last-child::after {align-self: flex-start;width: 50%;}#sk-container-id-1 div.sk-parallel-item:only-child::after {width: 0;}#sk-container-id-1 div.sk-dashed-wrapped {border: 1px dashed gray;margin: 0 0.4em 0.5em 0.4em;box-sizing: border-box;padding-bottom: 0.4em;background-color: white;}#sk-container-id-1 div.sk-label label {font-family: monospace;font-weight: bold;display: inline-block;line-height: 1.2em;}#sk-container-id-1 div.sk-label-container {text-align: center;}#sk-container-id-1 div.sk-container {/* jupyter's `normalize.less` sets `[hidden] { display: none; }` but bootstrap.min.css set `[hidden] { display: none !important; }` so we also need the `!important` here to be able to override the default hidden behavior on the sphinx rendered scikit-learn.org. See: https://github.com/scikit-learn/scikit-learn/issues/21755 */display: inline-block !important;position: relative;}#sk-container-id-1 div.sk-text-repr-fallback {display: none;}</style><div id=\"sk-container-id-1\" class=\"sk-top-container\"><div class=\"sk-text-repr-fallback\"><pre>RandomizedSearchCV(cv=5, error_score=&#x27;raise&#x27;,\n",
              "                   estimator=GradientBoostingClassifier(), n_jobs=-1,\n",
              "                   param_distributions={&#x27;max_depth&#x27;: [3, 5, 7, 10],\n",
              "                                        &#x27;min_samples_split&#x27;: [2, 4, 6, 8],\n",
              "                                        &#x27;n_estimators&#x27;: [100, 200, 300]},\n",
              "                   random_state=30)</pre><b>In a Jupyter environment, please rerun this cell to show the HTML representation or trust the notebook. <br />On GitHub, the HTML representation is unable to render, please try loading this page with nbviewer.org.</b></div><div class=\"sk-container\" hidden><div class=\"sk-item sk-dashed-wrapped\"><div class=\"sk-label-container\"><div class=\"sk-label sk-toggleable\"><input class=\"sk-toggleable__control sk-hidden--visually\" id=\"sk-estimator-id-1\" type=\"checkbox\" ><label for=\"sk-estimator-id-1\" class=\"sk-toggleable__label sk-toggleable__label-arrow\">RandomizedSearchCV</label><div class=\"sk-toggleable__content\"><pre>RandomizedSearchCV(cv=5, error_score=&#x27;raise&#x27;,\n",
              "                   estimator=GradientBoostingClassifier(), n_jobs=-1,\n",
              "                   param_distributions={&#x27;max_depth&#x27;: [3, 5, 7, 10],\n",
              "                                        &#x27;min_samples_split&#x27;: [2, 4, 6, 8],\n",
              "                                        &#x27;n_estimators&#x27;: [100, 200, 300]},\n",
              "                   random_state=30)</pre></div></div></div><div class=\"sk-parallel\"><div class=\"sk-parallel-item\"><div class=\"sk-item\"><div class=\"sk-label-container\"><div class=\"sk-label sk-toggleable\"><input class=\"sk-toggleable__control sk-hidden--visually\" id=\"sk-estimator-id-2\" type=\"checkbox\" ><label for=\"sk-estimator-id-2\" class=\"sk-toggleable__label sk-toggleable__label-arrow\">estimator: GradientBoostingClassifier</label><div class=\"sk-toggleable__content\"><pre>GradientBoostingClassifier()</pre></div></div></div><div class=\"sk-serial\"><div class=\"sk-item\"><div class=\"sk-estimator sk-toggleable\"><input class=\"sk-toggleable__control sk-hidden--visually\" id=\"sk-estimator-id-3\" type=\"checkbox\" ><label for=\"sk-estimator-id-3\" class=\"sk-toggleable__label sk-toggleable__label-arrow\">GradientBoostingClassifier</label><div class=\"sk-toggleable__content\"><pre>GradientBoostingClassifier()</pre></div></div></div></div></div></div></div></div></div></div>"
            ],
            "text/plain": [
              "RandomizedSearchCV(cv=5, error_score='raise',\n",
              "                   estimator=GradientBoostingClassifier(), n_jobs=-1,\n",
              "                   param_distributions={'max_depth': [3, 5, 7, 10],\n",
              "                                        'min_samples_split': [2, 4, 6, 8],\n",
              "                                        'n_estimators': [100, 200, 300]},\n",
              "                   random_state=30)"
            ]
          },
          "execution_count": 73,
          "metadata": {},
          "output_type": "execute_result"
        }
      ],
      "source": [
        "gbm_classifier.fit(X_train,y_train)"
      ]
    },
    {
      "cell_type": "code",
      "execution_count": null,
      "metadata": {
        "id": "xFO1W8gb2_HU"
      },
      "outputs": [],
      "source": [
        "import pickle \n",
        "pickle.dump(gbm_classifier, open('gbm_classifier.pkl', 'wb'))"
      ]
    },
    {
      "cell_type": "code",
      "execution_count": null,
      "metadata": {
        "id": "LPDd5KiEx4Vl",
        "outputId": "39b59416-1640-47c3-f56f-76f7dccf579a"
      },
      "outputs": [
        {
          "name": "stdout",
          "output_type": "stream",
          "text": [
            "{'n_estimators': 200, 'min_samples_split': 4, 'max_depth': 10}\n",
            "0.5744127364135536\n"
          ]
        }
      ],
      "source": [
        "print (gbm_classifier.best_params_)\n",
        "print(gbm_classifier.best_score_)"
      ]
    },
    {
      "cell_type": "code",
      "execution_count": null,
      "metadata": {
        "id": "N_aDIWIDx2gr"
      },
      "outputs": [],
      "source": [
        "y_gb_pred = gbm_classifier.predict(X_test)"
      ]
    },
    {
      "cell_type": "code",
      "execution_count": null,
      "metadata": {
        "id": "qRsERIJYzQH8",
        "outputId": "f0ce872f-47bf-45c9-f025-81c935af29c0"
      },
      "outputs": [
        {
          "name": "stdout",
          "output_type": "stream",
          "text": [
            "              precision    recall  f1-score   support\n",
            "\n",
            "           0       0.59      0.52      0.55    112854\n",
            "           1       0.57      0.64      0.60    113340\n",
            "\n",
            "    accuracy                           0.58    226194\n",
            "   macro avg       0.58      0.58      0.58    226194\n",
            "weighted avg       0.58      0.58      0.58    226194\n",
            "\n",
            "[[58331 54523]\n",
            " [40864 72476]]\n",
            "0.5781639292349251\n"
          ]
        }
      ],
      "source": [
        "from sklearn.metrics import roc_auc_score,classification_report,confusion_matrix\n",
        "print(classification_report (y_test,y_gb_pred))\n",
        "print(confusion_matrix(y_test,y_gb_pred))\n",
        "print(roc_auc_score(y_test,y_gb_pred))"
      ]
    },
    {
      "cell_type": "code",
      "execution_count": null,
      "metadata": {
        "id": "Tp_UITU8zT6l",
        "outputId": "68fd64d4-0c07-4160-d60e-59a8134a20b7"
      },
      "outputs": [
        {
          "name": "stdout",
          "output_type": "stream",
          "text": [
            "[0 0 1 ... 0 0 0]\n",
            "[[0.63459433 0.36540567]\n",
            " [0.63079106 0.36920894]\n",
            " [0.41143312 0.58856688]\n",
            " ...\n",
            " [0.64501197 0.35498803]\n",
            " [0.53281785 0.46718215]\n",
            " [0.50133015 0.49866985]]\n"
          ]
        }
      ],
      "source": [
        "# Predicting actual test data\n",
        "y_gb_pred2 = gbm_classifier.predict(test_x)\n",
        "print(y_gb_pred2)\n",
        "# Predicting probabilities\n",
        "y_gb_pred2_proba = gbm_classifier.predict_proba(test_x)\n",
        "print(y_gb_pred2_proba)"
      ]
    },
    {
      "cell_type": "code",
      "execution_count": null,
      "metadata": {
        "id": "xiQA71mhieY0"
      },
      "outputs": [],
      "source": [
        "pd.DataFrame(list(zip(cc_test['Complaint ID'],list(y_gb_pred2))),columns=['Complaint ID','Consumer disputed?']).to_csv('consumer_services_project_gbm.csv')"
      ]
    },
    {
      "cell_type": "code",
      "execution_count": null,
      "metadata": {
        "id": "s0X3IamZwiOu"
      },
      "outputs": [],
      "source": [
        "# Model no-3 XGBOOST\n",
        "from xgboost import XGBClassifier\n",
        "xgb = XGBClassifier()"
      ]
    },
    {
      "cell_type": "code",
      "execution_count": null,
      "metadata": {
        "id": "_I_nXWD_wiOu"
      },
      "outputs": [],
      "source": [
        "from sklearn.model_selection import RandomizedSearchCV\n",
        "parameter = {'n_estimators':[100,200,300], 'max_depth':[3,5,7,10], 'min_samples_split':[2,4,6,8]}\n",
        "xgb_clf = RandomizedSearchCV(xgb,parameter,cv=5,random_state =32,error_score='raise', n_jobs=-1)"
      ]
    },
    {
      "cell_type": "code",
      "execution_count": null,
      "metadata": {
        "id": "XDLB4CwvwiOu",
        "outputId": "75de3ea6-9039-496b-eccd-b243d4f11692"
      },
      "outputs": [
        {
          "name": "stdout",
          "output_type": "stream",
          "text": [
            "[00:40:30] WARNING: C:\\buildkite-agent\\builds\\buildkite-windows-cpu-autoscaling-group-i-07593ffd91cd9da33-1\\xgboost\\xgboost-ci-windows\\src\\learner.cc:767: \n",
            "Parameters: { \"min_samples_split\" } are not used.\n",
            "\n"
          ]
        },
        {
          "data": {
            "text/html": [
              "<style>#sk-container-id-2 {color: black;background-color: white;}#sk-container-id-2 pre{padding: 0;}#sk-container-id-2 div.sk-toggleable {background-color: white;}#sk-container-id-2 label.sk-toggleable__label {cursor: pointer;display: block;width: 100%;margin-bottom: 0;padding: 0.3em;box-sizing: border-box;text-align: center;}#sk-container-id-2 label.sk-toggleable__label-arrow:before {content: \"▸\";float: left;margin-right: 0.25em;color: #696969;}#sk-container-id-2 label.sk-toggleable__label-arrow:hover:before {color: black;}#sk-container-id-2 div.sk-estimator:hover label.sk-toggleable__label-arrow:before {color: black;}#sk-container-id-2 div.sk-toggleable__content {max-height: 0;max-width: 0;overflow: hidden;text-align: left;background-color: #f0f8ff;}#sk-container-id-2 div.sk-toggleable__content pre {margin: 0.2em;color: black;border-radius: 0.25em;background-color: #f0f8ff;}#sk-container-id-2 input.sk-toggleable__control:checked~div.sk-toggleable__content {max-height: 200px;max-width: 100%;overflow: auto;}#sk-container-id-2 input.sk-toggleable__control:checked~label.sk-toggleable__label-arrow:before {content: \"▾\";}#sk-container-id-2 div.sk-estimator input.sk-toggleable__control:checked~label.sk-toggleable__label {background-color: #d4ebff;}#sk-container-id-2 div.sk-label input.sk-toggleable__control:checked~label.sk-toggleable__label {background-color: #d4ebff;}#sk-container-id-2 input.sk-hidden--visually {border: 0;clip: rect(1px 1px 1px 1px);clip: rect(1px, 1px, 1px, 1px);height: 1px;margin: -1px;overflow: hidden;padding: 0;position: absolute;width: 1px;}#sk-container-id-2 div.sk-estimator {font-family: monospace;background-color: #f0f8ff;border: 1px dotted black;border-radius: 0.25em;box-sizing: border-box;margin-bottom: 0.5em;}#sk-container-id-2 div.sk-estimator:hover {background-color: #d4ebff;}#sk-container-id-2 div.sk-parallel-item::after {content: \"\";width: 100%;border-bottom: 1px solid gray;flex-grow: 1;}#sk-container-id-2 div.sk-label:hover label.sk-toggleable__label {background-color: #d4ebff;}#sk-container-id-2 div.sk-serial::before {content: \"\";position: absolute;border-left: 1px solid gray;box-sizing: border-box;top: 0;bottom: 0;left: 50%;z-index: 0;}#sk-container-id-2 div.sk-serial {display: flex;flex-direction: column;align-items: center;background-color: white;padding-right: 0.2em;padding-left: 0.2em;position: relative;}#sk-container-id-2 div.sk-item {position: relative;z-index: 1;}#sk-container-id-2 div.sk-parallel {display: flex;align-items: stretch;justify-content: center;background-color: white;position: relative;}#sk-container-id-2 div.sk-item::before, #sk-container-id-2 div.sk-parallel-item::before {content: \"\";position: absolute;border-left: 1px solid gray;box-sizing: border-box;top: 0;bottom: 0;left: 50%;z-index: -1;}#sk-container-id-2 div.sk-parallel-item {display: flex;flex-direction: column;z-index: 1;position: relative;background-color: white;}#sk-container-id-2 div.sk-parallel-item:first-child::after {align-self: flex-end;width: 50%;}#sk-container-id-2 div.sk-parallel-item:last-child::after {align-self: flex-start;width: 50%;}#sk-container-id-2 div.sk-parallel-item:only-child::after {width: 0;}#sk-container-id-2 div.sk-dashed-wrapped {border: 1px dashed gray;margin: 0 0.4em 0.5em 0.4em;box-sizing: border-box;padding-bottom: 0.4em;background-color: white;}#sk-container-id-2 div.sk-label label {font-family: monospace;font-weight: bold;display: inline-block;line-height: 1.2em;}#sk-container-id-2 div.sk-label-container {text-align: center;}#sk-container-id-2 div.sk-container {/* jupyter's `normalize.less` sets `[hidden] { display: none; }` but bootstrap.min.css set `[hidden] { display: none !important; }` so we also need the `!important` here to be able to override the default hidden behavior on the sphinx rendered scikit-learn.org. See: https://github.com/scikit-learn/scikit-learn/issues/21755 */display: inline-block !important;position: relative;}#sk-container-id-2 div.sk-text-repr-fallback {display: none;}</style><div id=\"sk-container-id-2\" class=\"sk-top-container\"><div class=\"sk-text-repr-fallback\"><pre>RandomizedSearchCV(cv=5, error_score=&#x27;raise&#x27;,\n",
              "                   estimator=XGBClassifier(base_score=None, booster=None,\n",
              "                                           callbacks=None,\n",
              "                                           colsample_bylevel=None,\n",
              "                                           colsample_bynode=None,\n",
              "                                           colsample_bytree=None,\n",
              "                                           early_stopping_rounds=None,\n",
              "                                           enable_categorical=False,\n",
              "                                           eval_metric=None, feature_types=None,\n",
              "                                           gamma=None, gpu_id=None,\n",
              "                                           grow_policy=None,\n",
              "                                           importance_type=None,\n",
              "                                           interaction_constraint...\n",
              "                                           max_cat_to_onehot=None,\n",
              "                                           max_delta_step=None, max_depth=None,\n",
              "                                           max_leaves=None,\n",
              "                                           min_child_weight=None, missing=nan,\n",
              "                                           monotone_constraints=None,\n",
              "                                           n_estimators=100, n_jobs=None,\n",
              "                                           num_parallel_tree=None,\n",
              "                                           predictor=None, random_state=None, ...),\n",
              "                   n_jobs=-1,\n",
              "                   param_distributions={&#x27;max_depth&#x27;: [3, 5, 7, 10],\n",
              "                                        &#x27;min_samples_split&#x27;: [2, 4, 6, 8],\n",
              "                                        &#x27;n_estimators&#x27;: [100, 200, 300]},\n",
              "                   random_state=32)</pre><b>In a Jupyter environment, please rerun this cell to show the HTML representation or trust the notebook. <br />On GitHub, the HTML representation is unable to render, please try loading this page with nbviewer.org.</b></div><div class=\"sk-container\" hidden><div class=\"sk-item sk-dashed-wrapped\"><div class=\"sk-label-container\"><div class=\"sk-label sk-toggleable\"><input class=\"sk-toggleable__control sk-hidden--visually\" id=\"sk-estimator-id-4\" type=\"checkbox\" ><label for=\"sk-estimator-id-4\" class=\"sk-toggleable__label sk-toggleable__label-arrow\">RandomizedSearchCV</label><div class=\"sk-toggleable__content\"><pre>RandomizedSearchCV(cv=5, error_score=&#x27;raise&#x27;,\n",
              "                   estimator=XGBClassifier(base_score=None, booster=None,\n",
              "                                           callbacks=None,\n",
              "                                           colsample_bylevel=None,\n",
              "                                           colsample_bynode=None,\n",
              "                                           colsample_bytree=None,\n",
              "                                           early_stopping_rounds=None,\n",
              "                                           enable_categorical=False,\n",
              "                                           eval_metric=None, feature_types=None,\n",
              "                                           gamma=None, gpu_id=None,\n",
              "                                           grow_policy=None,\n",
              "                                           importance_type=None,\n",
              "                                           interaction_constraint...\n",
              "                                           max_cat_to_onehot=None,\n",
              "                                           max_delta_step=None, max_depth=None,\n",
              "                                           max_leaves=None,\n",
              "                                           min_child_weight=None, missing=nan,\n",
              "                                           monotone_constraints=None,\n",
              "                                           n_estimators=100, n_jobs=None,\n",
              "                                           num_parallel_tree=None,\n",
              "                                           predictor=None, random_state=None, ...),\n",
              "                   n_jobs=-1,\n",
              "                   param_distributions={&#x27;max_depth&#x27;: [3, 5, 7, 10],\n",
              "                                        &#x27;min_samples_split&#x27;: [2, 4, 6, 8],\n",
              "                                        &#x27;n_estimators&#x27;: [100, 200, 300]},\n",
              "                   random_state=32)</pre></div></div></div><div class=\"sk-parallel\"><div class=\"sk-parallel-item\"><div class=\"sk-item\"><div class=\"sk-label-container\"><div class=\"sk-label sk-toggleable\"><input class=\"sk-toggleable__control sk-hidden--visually\" id=\"sk-estimator-id-5\" type=\"checkbox\" ><label for=\"sk-estimator-id-5\" class=\"sk-toggleable__label sk-toggleable__label-arrow\">estimator: XGBClassifier</label><div class=\"sk-toggleable__content\"><pre>XGBClassifier(base_score=None, booster=None, callbacks=None,\n",
              "              colsample_bylevel=None, colsample_bynode=None,\n",
              "              colsample_bytree=None, early_stopping_rounds=None,\n",
              "              enable_categorical=False, eval_metric=None, feature_types=None,\n",
              "              gamma=None, gpu_id=None, grow_policy=None, importance_type=None,\n",
              "              interaction_constraints=None, learning_rate=None, max_bin=None,\n",
              "              max_cat_threshold=None, max_cat_to_onehot=None,\n",
              "              max_delta_step=None, max_depth=None, max_leaves=None,\n",
              "              min_child_weight=None, missing=nan, monotone_constraints=None,\n",
              "              n_estimators=100, n_jobs=None, num_parallel_tree=None,\n",
              "              predictor=None, random_state=None, ...)</pre></div></div></div><div class=\"sk-serial\"><div class=\"sk-item\"><div class=\"sk-estimator sk-toggleable\"><input class=\"sk-toggleable__control sk-hidden--visually\" id=\"sk-estimator-id-6\" type=\"checkbox\" ><label for=\"sk-estimator-id-6\" class=\"sk-toggleable__label sk-toggleable__label-arrow\">XGBClassifier</label><div class=\"sk-toggleable__content\"><pre>XGBClassifier(base_score=None, booster=None, callbacks=None,\n",
              "              colsample_bylevel=None, colsample_bynode=None,\n",
              "              colsample_bytree=None, early_stopping_rounds=None,\n",
              "              enable_categorical=False, eval_metric=None, feature_types=None,\n",
              "              gamma=None, gpu_id=None, grow_policy=None, importance_type=None,\n",
              "              interaction_constraints=None, learning_rate=None, max_bin=None,\n",
              "              max_cat_threshold=None, max_cat_to_onehot=None,\n",
              "              max_delta_step=None, max_depth=None, max_leaves=None,\n",
              "              min_child_weight=None, missing=nan, monotone_constraints=None,\n",
              "              n_estimators=100, n_jobs=None, num_parallel_tree=None,\n",
              "              predictor=None, random_state=None, ...)</pre></div></div></div></div></div></div></div></div></div></div>"
            ],
            "text/plain": [
              "RandomizedSearchCV(cv=5, error_score='raise',\n",
              "                   estimator=XGBClassifier(base_score=None, booster=None,\n",
              "                                           callbacks=None,\n",
              "                                           colsample_bylevel=None,\n",
              "                                           colsample_bynode=None,\n",
              "                                           colsample_bytree=None,\n",
              "                                           early_stopping_rounds=None,\n",
              "                                           enable_categorical=False,\n",
              "                                           eval_metric=None, feature_types=None,\n",
              "                                           gamma=None, gpu_id=None,\n",
              "                                           grow_policy=None,\n",
              "                                           importance_type=None,\n",
              "                                           interaction_constraint...\n",
              "                                           max_cat_to_onehot=None,\n",
              "                                           max_delta_step=None, max_depth=None,\n",
              "                                           max_leaves=None,\n",
              "                                           min_child_weight=None, missing=nan,\n",
              "                                           monotone_constraints=None,\n",
              "                                           n_estimators=100, n_jobs=None,\n",
              "                                           num_parallel_tree=None,\n",
              "                                           predictor=None, random_state=None, ...),\n",
              "                   n_jobs=-1,\n",
              "                   param_distributions={'max_depth': [3, 5, 7, 10],\n",
              "                                        'min_samples_split': [2, 4, 6, 8],\n",
              "                                        'n_estimators': [100, 200, 300]},\n",
              "                   random_state=32)"
            ]
          },
          "execution_count": 88,
          "metadata": {},
          "output_type": "execute_result"
        }
      ],
      "source": [
        "xgb_clf.fit(X_train,y_train)"
      ]
    },
    {
      "cell_type": "code",
      "execution_count": null,
      "metadata": {
        "id": "Mg9nvhqTwiOv"
      },
      "outputs": [],
      "source": [
        "import pickle\n",
        "pickle.dump(xgb_clf,open('xgb_clf2','wb'))"
      ]
    },
    {
      "cell_type": "code",
      "execution_count": null,
      "metadata": {
        "id": "O0-IirypwiOv"
      },
      "outputs": [],
      "source": [
        "y_pred3 = xgb_clf.predict(X_test)"
      ]
    },
    {
      "cell_type": "code",
      "execution_count": null,
      "metadata": {
        "id": "Au3L7vHmwiOv",
        "outputId": "19cd0ece-735c-4c55-b67a-054555e93722"
      },
      "outputs": [
        {
          "name": "stdout",
          "output_type": "stream",
          "text": [
            "              precision    recall  f1-score   support\n",
            "\n",
            "           0       0.58      0.51      0.55    112854\n",
            "           1       0.57      0.63      0.60    113340\n",
            "\n",
            "    accuracy                           0.57    226194\n",
            "   macro avg       0.57      0.57      0.57    226194\n",
            "weighted avg       0.57      0.57      0.57    226194\n",
            "\n",
            "[[58005 54849]\n",
            " [41597 71743]]\n",
            "0.573485951899531\n"
          ]
        }
      ],
      "source": [
        "from sklearn.metrics import roc_auc_score,classification_report,confusion_matrix\n",
        "print(classification_report (y_test,y_pred3))\n",
        "print(confusion_matrix(y_test,y_pred3))\n",
        "print(roc_auc_score(y_test,y_pred3))"
      ]
    },
    {
      "cell_type": "code",
      "execution_count": null,
      "metadata": {
        "id": "MvZ4lsrswiOw",
        "outputId": "0f149145-1983-4924-efa6-5800d293812e"
      },
      "outputs": [
        {
          "name": "stdout",
          "output_type": "stream",
          "text": [
            "[0 0 1 ... 0 0 0]\n"
          ]
        }
      ],
      "source": [
        "# Predicting actual test data\n",
        "y_pred31 = xgb_clf.predict(test_x)\n",
        "print(y_pred31)"
      ]
    },
    {
      "cell_type": "code",
      "execution_count": null,
      "metadata": {
        "id": "Z7XXwANHwiOw"
      },
      "outputs": [],
      "source": [
        "pd.DataFrame(list(zip(cc_test['Complaint ID'],list(y_pred31))),columns=['Complaint ID','Consumer disputed?']).to_csv('consumer_services_project_xgb.csv')"
      ]
    },
    {
      "cell_type": "code",
      "execution_count": null,
      "metadata": {
        "id": "NCrFxt9jwiOw"
      },
      "outputs": [],
      "source": [
        "### final comment---As we have seen no major changes seen by changing model. \n",
        "##So considering gradient boosting and submitting it with score 0.55\n",
        "#Thank U"
      ]
    }
  ],
  "metadata": {
    "colab": {
      "provenance": []
    },
    "kernelspec": {
      "display_name": "Python 3 (ipykernel)",
      "language": "python",
      "name": "python3"
    },
    "language_info": {
      "codemirror_mode": {
        "name": "ipython",
        "version": 3
      },
      "file_extension": ".py",
      "mimetype": "text/x-python",
      "name": "python",
      "nbconvert_exporter": "python",
      "pygments_lexer": "ipython3",
      "version": "3.10.9"
    }
  },
  "nbformat": 4,
  "nbformat_minor": 0
}